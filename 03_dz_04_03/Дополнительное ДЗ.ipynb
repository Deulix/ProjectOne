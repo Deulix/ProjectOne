{
 "cells": [
  {
   "cell_type": "markdown",
   "metadata": {},
   "source": [
    "# Задачи Python"
   ]
  },
  {
   "cell_type": "markdown",
   "metadata": {},
   "source": [
    "<h2 id=\"i-like-python\">I like Python</h2>\n",
    "Напишите программу, которая выводит на экран текст «I***like***Python» (без кавычек)"
   ]
  },
  {
   "cell_type": "code",
   "execution_count": 2,
   "metadata": {},
   "outputs": [
    {
     "data": {
      "text/plain": [
       "'I***like***Python'"
      ]
     },
     "execution_count": 2,
     "metadata": {},
     "output_type": "execute_result"
    }
   ],
   "source": [
    "text = \"I like Python\"\n",
    "text.replace(\" \", \"***\")"
   ]
  },
  {
   "cell_type": "markdown",
   "metadata": {},
   "source": [
    "<h2 id=\"upravlyaemyy-razdelitel\">Управляемый разделитель</h2>\n",
    "<p>Напишите программу, которая считывает строку-разделитель и три строки, а затем выводит указанные строки&nbsp;через разделитель.</p>"
   ]
  },
  {
   "cell_type": "code",
   "execution_count": 3,
   "metadata": {},
   "outputs": [
    {
     "name": "stdout",
     "output_type": "stream",
     "text": [
      "ffff123aaaa123ssss\n"
     ]
    }
   ],
   "source": [
    "sep = input(\"Разделитель: \")\n",
    "str1 = input(\"Строка 1: \")\n",
    "str2 = input(\"Строка 2: \")\n",
    "str3 = input(\"Строка 3: \")\n",
    "print(str1, str2, str3, sep= sep)"
   ]
  },
  {
   "cell_type": "markdown",
   "metadata": {},
   "source": [
    "<h2 id=\"summa-tryoh-chisel\">Сумма трёх чисел</h2>\n",
    "<p>Напишите программу, которая считывает три целых числа и выводит на экран&nbsp;их сумму. Каждое число записано в отдельной строке.</p>"
   ]
  },
  {
   "cell_type": "code",
   "execution_count": null,
   "metadata": {},
   "outputs": [],
   "source": [
    "a = 5\n",
    "b = 10\n",
    "c = 7\n",
    "print(a + b + c)"
   ]
  },
  {
   "cell_type": "markdown",
   "metadata": {},
   "source": [
    "<h2 id=\"sleduyuschee-i-predyduschee\">Следующее и предыдущее</h2>\n",
    "<p>Напишите программу, которая считывает целое число, после чего на экран выводится следующее и предыдущее целое число с пояснительным текстом.</p>"
   ]
  },
  {
   "cell_type": "code",
   "execution_count": 4,
   "metadata": {},
   "outputs": [
    {
     "name": "stdout",
     "output_type": "stream",
     "text": [
      "Данное число 15, предыдущее 14, следующее 16\n"
     ]
    }
   ],
   "source": [
    "a = 15\n",
    "print(f\"Данное число {a}, предыдущее {a-1}, следующее {a+1}\")"
   ]
  },
  {
   "cell_type": "markdown",
   "metadata": {},
   "source": [
    "<h2 id=\"razdelyay-i-vlastvuy\">Разделяй и властвуй</h2>\n",
    "<p>Напишите программу, которая считывает целое положительное число&nbsp;x<em>x</em>&nbsp;и выводит на&nbsp;экран последовательность чисел&nbsp;x, 2x, 3x, 4x<em>, </em>5<em>x</em>, разделённых&nbsp;тремя черточками.</p>"
   ]
  },
  {
   "cell_type": "code",
   "execution_count": 5,
   "metadata": {},
   "outputs": [
    {
     "name": "stdout",
     "output_type": "stream",
     "text": [
      "5---10---15---20---25\n"
     ]
    }
   ],
   "source": [
    "x = int(input())\n",
    "print(x, x * 2, x * 3, x * 4, x * 5, sep = \"---\")"
   ]
  },
  {
   "cell_type": "markdown",
   "metadata": {},
   "source": [
    "<h2 id=\"rasstoyanie-v-metrah\">Расстояние в метрах</h2>\n",
    "<p>Напишите программу, которая находит полное число метров по заданному числу сантиметров.</p>"
   ]
  },
  {
   "cell_type": "code",
   "execution_count": null,
   "metadata": {},
   "outputs": [
    {
     "name": "stdout",
     "output_type": "stream",
     "text": [
      "1552 сантиметров будет 15.52 метров\n"
     ]
    }
   ],
   "source": [
    "cm = int(input(\"Количество сантиметров: \"))\n",
    "print(f\"{cm} сантиметров будет {cm / 100} метров\")"
   ]
  },
  {
   "cell_type": "markdown",
   "metadata": {},
   "source": [
    "<h2 id=\"sama-neotvratimost\">Сама неотвратимость</h2>\n",
    "<p>Безумный титан Танос собрал все 6 камней бесконечности и намеревается уничтожить&nbsp;половину&nbsp;населения Вселенной по щелчку пальцев. При этом если население Вселенной является нечетным числом, то&nbsp;титан проявит милосердие и округлит количество выживших в большую&nbsp;сторону. Помогите Мстителям подсчитать количество выживших.</p>"
   ]
  },
  {
   "cell_type": "code",
   "execution_count": 82,
   "metadata": {},
   "outputs": [
    {
     "name": "stdout",
     "output_type": "stream",
     "text": [
      "Всего количество людей: 16792372467, количество выживших: 8396186234\n"
     ]
    }
   ],
   "source": [
    "import random\n",
    "import math\n",
    "\n",
    "population = random.randint(10000000000, 20000000000)\n",
    "print(f\"Всего количество людей: {population}, количество выживших: {math.ceil(population / 2)}\")"
   ]
  },
  {
   "cell_type": "markdown",
   "metadata": {},
   "source": [
    "<h2 id=\"pereschet-vremennogo-intervala\">Пересчет временного интервала</h2><p>Напишите программу для пересчёта величины временного интервала, заданного в минутах, в величину, выраженную в часах и минутах.</p>"
   ]
  },
  {
   "cell_type": "code",
   "execution_count": 71,
   "metadata": {},
   "outputs": [
    {
     "name": "stdout",
     "output_type": "stream",
     "text": [
      "6968 минут в часах будет 116 часов и 8 минут\n"
     ]
    }
   ],
   "source": [
    "minutes = random.randint(1, 10000)\n",
    "print(f\"{minutes} минут в часах будет {minutes // 60} часов и {minutes % 60} минут\")"
   ]
  },
  {
   "cell_type": "markdown",
   "metadata": {},
   "source": [
    "<h2 id=\"trehznachnoe-chislo\">Трехзначное число</h2><p>Напишите программу, в которой рассчитывается сумма и произведение цифр положительного трёхзначного числа.</p>"
   ]
  },
  {
   "cell_type": "code",
   "execution_count": 39,
   "metadata": {},
   "outputs": [
    {
     "name": "stdout",
     "output_type": "stream",
     "text": [
      "Сумма цифр числа 877 равна 22, перемножение цифр числа равно 392\n"
     ]
    }
   ],
   "source": [
    "x = random.randint(100, 999)\n",
    "print(f\"Сумма цифр числа {x} равна {x % 10 + x // 10 % 10 + x // 100 % 10}, перемножение цифр числа равно {(x % 10) * (x // 10 % 10) * (x // 100 % 10)}\")"
   ]
  },
  {
   "cell_type": "markdown",
   "metadata": {},
   "source": [
    "<h2 id=\"chetyryohznachnoe-chislo\">Четырёхзначное число</h2><p>Напишите программу для нахождения цифр четырёхзначного числа.</p>"
   ]
  },
  {
   "cell_type": "code",
   "execution_count": 87,
   "metadata": {},
   "outputs": [
    {
     "name": "stdout",
     "output_type": "stream",
     "text": [
      "Сумма цифр числа 5017 равна 13\n"
     ]
    }
   ],
   "source": [
    "x = random.randint(1000, 9999)\n",
    "print(f\"Сумма цифр числа {x} равна {x % 10 + x // 10 % 10 + x // 100 % 10 + x // 1000 % 10}\")"
   ]
  },
  {
   "cell_type": "markdown",
   "metadata": {},
   "source": [
    "<h2 id=\"parol\">Пароль</h2><p>При регистрации на сайтах требуется вводить пароль дважды. Это сделано для безопасности, поскольку&nbsp;такой подход уменьшает возможность неверного ввода пароля.</p>"
   ]
  },
  {
   "cell_type": "code",
   "execution_count": 104,
   "metadata": {},
   "outputs": [
    {
     "name": "stdout",
     "output_type": "stream",
     "text": [
      "Пароли не совпали!\n"
     ]
    }
   ],
   "source": [
    "pass_insert = input(\"Введите желаемый пароль: \")\n",
    "pass_check = input(\"Подтвердите пароль: \")\n",
    "if pass_insert == pass_check and len(pass_insert) > 5:\n",
    "    print(\"Пароль сохранён.\")\n",
    "elif pass_insert == pass_check and len(pass_insert) <= 5:\n",
    "    print(\"Пароль слишком короткий!\")\n",
    "else:\n",
    "    print(\"Пароли не совпали!\")"
   ]
  },
  {
   "cell_type": "markdown",
   "metadata": {},
   "source": [
    "<h2 id=\"chetnoe-ili-nechetnoe\">Четное или нечетное?</h2><p>Напишите программу, которая определяет, является число четным или нечетным.</p>"
   ]
  },
  {
   "cell_type": "code",
   "execution_count": 114,
   "metadata": {},
   "outputs": [
    {
     "name": "stdout",
     "output_type": "stream",
     "text": [
      "36511 является нечётным\n"
     ]
    }
   ],
   "source": [
    "x = random.randint(0, 100000)\n",
    "print(f\"{x} является чётным\") if x % 2 == 0 else print(f\"{x} является нечётным\")"
   ]
  },
  {
   "cell_type": "markdown",
   "metadata": {},
   "source": [
    "<h2 id=\"roskomnadzor\">Роскомнадзор</h2><p>Напишите программу, которая определяет, разрешен&nbsp;пользователю доступ к интернет-ресурсу или нет.</p>\n",
    "<p>Формат входных данных<br> На вход программе подаётся целое&nbsp;число — возраст пользователя.</p>\n",
    "<p>Формат выходных данных<br> Программа должна вывести текст «Доступ разрешен»&nbsp;если возраст не менее 18, и&nbsp;«Доступ запрещен»&nbsp;в противном случае.</p>"
   ]
  },
  {
   "cell_type": "code",
   "execution_count": 116,
   "metadata": {},
   "outputs": [
    {
     "name": "stdout",
     "output_type": "stream",
     "text": [
      "Доступ запрешён!\n"
     ]
    }
   ],
   "source": [
    "age = int(input(\"Введите ваш возраст, количество полных лет: \"))\n",
    "print(\"Доступ разрешён\") if age >= 18 else print(\"Доступ запрешён!\")"
   ]
  },
  {
   "cell_type": "markdown",
   "metadata": {},
   "source": [
    "<h2 id=\"arifmeticheskaya-progressiya\">Арифметическая прогрессия</h2><p>Напишите программу, которая определяет, являются ли три заданных числа (в указанном порядке) последовательными членами&nbsp;арифметической прогрессии.</p>"
   ]
  },
  {
   "cell_type": "code",
   "execution_count": null,
   "metadata": {},
   "outputs": [
    {
     "name": "stdout",
     "output_type": "stream",
     "text": [
      "Числа 12, 24 и 36 являются членами арифметической прогрессии\n"
     ]
    }
   ],
   "source": [
    "a = int(input(\"Первое число: \"))\n",
    "b = int(input(\"Второе число: \"))\n",
    "c = int(input(\"Третье число: \"))\n",
    "print(f\"Числа {a}, {b} и {c} являются последовательными членами арифметической прогрессии\") if b - a == c - b else print(f\"\"\"Числа {a}, {b} и {c} НЕ являются последовательными членами арифметической прогрессии\"\"\")"
   ]
  },
  {
   "cell_type": "markdown",
   "metadata": {},
   "source": [
    "<h2 id=\"naimenshee-iz-chetyryoh-chisel\">Наименьшее из четырёх чисел</h2><p>Напишите программу, которая определяет&nbsp;наименьшее из четырёх чисел.</p>"
   ]
  },
  {
   "cell_type": "code",
   "execution_count": 170,
   "metadata": {},
   "outputs": [
    {
     "name": "stdout",
     "output_type": "stream",
     "text": [
      "4 -3 5 -1\n",
      "-3\n"
     ]
    }
   ],
   "source": [
    "a = random.randint(-10, 10)\n",
    "b = random.randint(-10, 10)\n",
    "c = random.randint(-10, 10)\n",
    "d = random.randint(-10, 10)\n",
    "list_num = [a, b, c, d]\n",
    "print(a, b, c, d)\n",
    "list_num.sort()\n",
    "print(list_num[0])"
   ]
  },
  {
   "cell_type": "markdown",
   "metadata": {},
   "source": [
    "<h2 id=\"tolko\">Только +</h2><p>Напишите программу, которая считывает три числа и подсчитывает&nbsp;сумму только положительных чисел.</p>"
   ]
  },
  {
   "cell_type": "code",
   "execution_count": 177,
   "metadata": {},
   "outputs": [
    {
     "name": "stdout",
     "output_type": "stream",
     "text": [
      "3 -5 2 \n",
      " 5\n"
     ]
    }
   ],
   "source": [
    "a = random.randint(-10, 10)\n",
    "b = random.randint(-10, 10)\n",
    "c = random.randint(-10, 10)\n",
    "list_num = [a, b, c]\n",
    "summ = 0\n",
    "for i in list_num:\n",
    "    if i > 0:\n",
    "        summ = summ + i\n",
    "print(a, b, c, \"\\n\", summ)"
   ]
  },
  {
   "cell_type": "markdown",
   "metadata": {},
   "source": [
    "<h2 id=\"prinadlezhnost-1\">Принадлежность 1</h2><p>Напишите программу, которая принимает целое число&nbsp;x&nbsp;и определяет, принадлежит ли данное число промежутку от -1 до 17.</p>"
   ]
  },
  {
   "cell_type": "code",
   "execution_count": 246,
   "metadata": {},
   "outputs": [
    {
     "name": "stdout",
     "output_type": "stream",
     "text": [
      "4 in [-1; 17]\n",
      "YES\n"
     ]
    }
   ],
   "source": [
    "x = random.randint(-10, 20)\n",
    "print(x, \"in [-1; 17]\")\n",
    "print(\"YES\") if x in range(-1, 18) else print(\"NO\")"
   ]
  },
  {
   "cell_type": "markdown",
   "metadata": {},
   "source": [
    "<h2 id=\"prinadlezhnost-2\">Принадлежность 2</h2><p>Напишите программу, которая принимает целое число&nbsp;x&nbsp;и определяет, принадлежит ли данное число указанным&nbsp;промежуткам: от минус бесконечности до -3 и от 7 до бесконечности.</p>"
   ]
  },
  {
   "cell_type": "code",
   "execution_count": 249,
   "metadata": {},
   "outputs": [
    {
     "name": "stdout",
     "output_type": "stream",
     "text": [
      "7 in [-∞; -3] and [7; +∞]\n",
      "YES\n"
     ]
    }
   ],
   "source": [
    "x = int(input(\"Введите число: \"))\n",
    "print(x, \"in [-∞; -3] and [7; +∞]\")\n",
    "print(\"YES\") if x not in range(-2, 7) else print(\"NO\")"
   ]
  },
  {
   "cell_type": "markdown",
   "metadata": {},
   "source": [
    "<h2 id=\"prinadlezhnost-3\">Принадлежность 3</h2><p>Напишите программу, которая принимает целое число&nbsp;x&nbsp;и определяет, принадлежит ли данное число указанным&nbsp;промежуткам: от -30 до -2 и от 7 до 25.<br> </p>"
   ]
  },
  {
   "cell_type": "code",
   "execution_count": 267,
   "metadata": {},
   "outputs": [
    {
     "name": "stdout",
     "output_type": "stream",
     "text": [
      "-17 in [-30; -2] or [7; 25]\n",
      "YES\n"
     ]
    }
   ],
   "source": [
    "x = random.randint(-100, 100)\n",
    "# x = int(input(\"Введите число: \"))\n",
    "print(x,\"in [-30; -2] or [7; 25]\")\n",
    "print(\"YES\") if x in range(-30, -1) or x in range(7, 26) else print(\"NO\")"
   ]
  },
  {
   "cell_type": "markdown",
   "metadata": {},
   "source": [
    "<h2 id=\"visokosnyy-god\">Високосный год</h2><p>Напишите программу, которая&nbsp;определяет, является ли год с данным номером високосным. Если год является високосным, то выведите «YES», иначе выведите «NO». Год является високосным, если его номер кратен 4, но не кратен 100, или&nbsp;если он кратен 400. </p>"
   ]
  },
  {
   "cell_type": "code",
   "execution_count": null,
   "metadata": {},
   "outputs": [
    {
     "name": "stdout",
     "output_type": "stream",
     "text": [
      "\n",
      "NO\n"
     ]
    }
   ],
   "source": [
    "year = int(input(\"Введите год: \"))\n",
    "print(year)\n",
    "print(\"YES\") if year % 4 == 0 and not year % 100 == 0 or year % 400 == 0 else print(\"NO\")"
   ]
  },
  {
   "cell_type": "markdown",
   "metadata": {},
   "source": [
    "<h2 id=\"hod-ladi\">Ход ладьи</h2><p>Даны две различные клетки шахматной доски. Напишите программу, которая определяет, может ли ладья попасть с первой клетки на вторую одним ходом. Программа получает на вход четыре числа от 1 до 8 каждое, задающие номер столбца и номер строки сначала для первой клетки, потом для второй клетки. Программа должна вывести «YES», если из первой клетки ходом ладьи можно попасть во вторую, или «NO»&nbsp;в противном случае.</p>"
   ]
  },
  {
   "cell_type": "code",
   "execution_count": null,
   "metadata": {},
   "outputs": [
    {
     "name": "stdout",
     "output_type": "stream",
     "text": [
      "WRONG COODS\n"
     ]
    }
   ],
   "source": [
    "cords = [1, 2, 3, 4, 5, 6, 7, 8]\n",
    "lad_cord1 = int(input(\"Введите первую координату ладьи (от 1 до 8): \"))\n",
    "lad_cord2 = int(input(\"Введите вторую координату ладьи (от 1 до 8): \"))\n",
    "lad_cord3 = int(input(\"Введите первую координату хода ладьи (от 1 до 8): \"))\n",
    "lad_cord4 = int(input(\"Введите вторую координату хода ладьи (от 1 до 8): \"))\n",
    "if lad_cord1 == lad_cord3 and lad_cord2 != lad_cord4 and lad_cord2 in cords and lad_cord4 in cords:\n",
    "    print(\"YES\")\n",
    "elif lad_cord2 == lad_cord4 and lad_cord1 != lad_cord3 and lad_cord1 in cords and lad_cord3 in cords:\n",
    "    print(\"YES\")\n",
    "elif lad_cord1 == lad_cord3 and lad_cord2 == lad_cord4:\n",
    "    print(\"!NO MOVE!\")\n",
    "elif lad_cord1 or lad_cord2 or lad_cord3 or lad_cord4 not in cords:\n",
    "    print(\"!WRONG COORDOINATES!\")\n",
    "else:\n",
    "    print(\"NO\")"
   ]
  },
  {
   "cell_type": "markdown",
   "metadata": {},
   "source": [
    "<h2 id=\"hod-korolya\">Ход короля</h2><p>Даны две различные клетки шахматной доски. Напишите программу,&nbsp; которая определяет, может ли король попасть с первой клетки на вторую одним ходом. Программа получает на вход четыре числа от 1 до 8 каждое, задающие номер столбца и номер строки сначала для первой клетки, потом для второй клетки. Программа должна вывести «YES», если из первой клетки ходом короля можно попасть во вторую, или «NO»&nbsp;в противном случае.</p>"
   ]
  },
  {
   "cell_type": "code",
   "execution_count": 316,
   "metadata": {},
   "outputs": [
    {
     "name": "stdout",
     "output_type": "stream",
     "text": [
      "!WRONG COORDOINATES!\n"
     ]
    }
   ],
   "source": [
    "cords = [1, 2, 3, 4, 5, 6, 7, 8]\n",
    "king_cords1 = int(input(\"Введите первую координату короля (от 1 до 8): \"))\n",
    "king_cords2 = int(input(\"Введите вторую координату короля (от 1 до 8): \"))\n",
    "king_cords3 = int(input(\"Введите первую координату хода короля (от 1 до 8): \"))\n",
    "king_cords4 = int(input(\"Введите вторую координату хода короля (от 1 до 8): \"))\n",
    "if king_cords3 - king_cords1 < 2 and king_cords4 - king_cords2 < 2 and king_cords1 in cords and king_cords2 in cords and king_cords3 in cords and king_cords4 in cords :\n",
    "    print(\"YES\")\n",
    "elif king_cords1 == king_cords3 and king_cords2 == king_cords4:\n",
    "    print(\"!NO MOVE!\")\n",
    "elif king_cords1 not in cords or king_cords2 not in cords or king_cords3 not in cords or king_cords4 not in cords:\n",
    "    print(\"!WRONG COORDOINATES!\")\n",
    "else:\n",
    "    print(\"NO\")"
   ]
  },
  {
   "cell_type": "markdown",
   "metadata": {},
   "source": [
    "<h2 id=\"vid-treugolnika\">Вид треугольника</h2><p>Напишите программу, которая принимает три положительных числа и определяет вид треугольника, длины сторон которого равны введенным числам.</p>"
   ]
  },
  {
   "cell_type": "code",
   "execution_count": 378,
   "metadata": {},
   "outputs": [
    {
     "name": "stdout",
     "output_type": "stream",
     "text": [
      "Стороны 3, 6 и 5.\n",
      "Треугольник разносторонний.\n"
     ]
    }
   ],
   "source": [
    "a = random.randint(1, 10)\n",
    "b = random.randint(1, 10)\n",
    "c = random.randint(1, 10)\n",
    "# a = 3\n",
    "# b = 4 # египетский треугольник (прямоугольный)\n",
    "# c = 5\n",
    "print(f\"Стороны {a}, {b} и {c}.\")\n",
    "if a == b == c:\n",
    "    print(\"Треугольник равносторонний.\")\n",
    "elif a == b and a != c or b == c and a !=c or c == a and a != b:\n",
    "    print(\"Треугольник равнобедренный.\")\n",
    "elif a ** 2 + b ** 2 == c ** 2 or a ** 2 + c ** 2 == b ** 2 or b ** 2 + c ** 2 == a ** 2:\n",
    "    print(\"Треугольник прямоугольный.\")\n",
    "elif a + b <= c or a + c <= b or c + b <= a:\n",
    "    print(\"Это не треугольник (см. теорему о неравенстве).\")\n",
    "else:\n",
    "    print(\"Треугольник разносторонний.\")    "
   ]
  },
  {
   "cell_type": "markdown",
   "metadata": {},
   "source": [
    "<h2 id=\"samopisnyy-kalkulyator\">Самописный калькулятор</h2><p>Напишите программу, которая считывает с клавиатуры два целых числа и строку.&nbsp;Если эта строка является обозначением одной из четырёх математических операций (+, -, *,&nbsp;/), то выведите результат применения этой операции к введённым ранее числам, в противном случае выведите «Неверная операция». Если пользователь захочет поделить на ноль, выведите текст&nbsp;«На ноль делить нельзя!».</p>"
   ]
  },
  {
   "cell_type": "code",
   "execution_count": 380,
   "metadata": {},
   "outputs": [
    {
     "name": "stdout",
     "output_type": "stream",
     "text": [
      "Неверная операция!\n"
     ]
    }
   ],
   "source": [
    "oper = input(\"Выберите операцию (+ - * /): \")\n",
    "num1 = int(input(\"Введите первое число: \"))\n",
    "num2 = int(input(\"Введите второе число: \"))\n",
    "if oper == \"+\":\n",
    "    print(num1 + num2)\n",
    "elif oper == \"-\":\n",
    "    print(num1 - num2)\n",
    "elif oper == \"*\":\n",
    "    print(num1 * num2)\n",
    "elif oper == \"/\" and num2 == 0:\n",
    "    print(\"МАТЕМАТИЧЕСКОЕ ОСУЖДЕНИЕ\")\n",
    "elif oper == \"/\":\n",
    "    print(num1 / num2)\n",
    "else:\n",
    "    print(\"Неверная операция!\")"
   ]
  },
  {
   "cell_type": "markdown",
   "metadata": {},
   "source": [
    "<h2 id=\"tsvetovoy-miksher\">Цветовой микшер</h2><p>Красный, синий и желтый называются основными цветами, потому что их нельзя получить путем смешения других цветов. При смешивании двух основных цветов получается вторичный цвет:</p>\n",
    "<ul> <li>если смешать красный и синий, то получится фиолетовый;</li> <li>если смешать красный и желтый, то получится оранжевый;</li> <li>если смешать синий и желтый, то получится зеленый.</li> </ul><p>Напишите программу, которая считывает&nbsp;названия двух основных цветов для смешивания. Если пользователь вводит что-нибудь помимо названий «красный», «синий»&nbsp;или «желтый», то программа должна вывести сообщение об ошибке. В противном случае программа должна вывести название вторичного цвета, который получится в результате.</p>"
   ]
  },
  {
   "cell_type": "code",
   "execution_count": 387,
   "metadata": {},
   "outputs": [
    {
     "name": "stdout",
     "output_type": "stream",
     "text": [
      "Если смешать 11 и 22 получится: \n",
      "ОШИБКА\n"
     ]
    }
   ],
   "source": [
    "color1 = input(\"Первый цвет (красный, синий или жёлтый): \")\n",
    "color2 = input(\"Первый цвет (красный, синий или жёлтый): \")\n",
    "print (f\"Если смешать {color1} и {color2} получится: \")\n",
    "if color1 == \"красный\" and color2 == \"красный\":\n",
    "    print(\"красный\")\n",
    "elif color1 == \"красный\" and color2 == \"синий\":\n",
    "    print(\"фиолетовый\")\n",
    "elif color1 == \"красный\" and color2 == \"жёлтый\":\n",
    "    print(\"оранжевый\")\n",
    "elif color1 == \"синий\" and color2 == \"красный\":\n",
    "    print(\"фиолетовый\")\n",
    "elif color1 == \"синий\" and color2 == \"синий\":\n",
    "    print(\"синий\")\n",
    "elif color1 == \"синий\" and color2 == \"жёлтый\":\n",
    "    print(\"зелёный\")\n",
    "elif color1 == \"жёлтый\" and color2 == \"красный\":\n",
    "    print(\"оранжевый\")\n",
    "elif color1 == \"жёлтый\" and color2 == \"синий\":\n",
    "    print(\"зелёный\")\n",
    "elif color1 == \"жёлтый\" and color2 == \"жёлтый\":\n",
    "    print(\"жёлтый\")\n",
    "else:\n",
    "    print(\"ОШИБКА\")"
   ]
  },
  {
   "cell_type": "markdown",
   "metadata": {},
   "source": [
    "<h2 id=\"peresechenie-otrezkov\">Пересечение отрезков</h2><p>На числовой прямой даны&nbsp;два отрезка:&nbsp;[<em>a</em>1​;&nbsp;<em>b</em>1​]&nbsp;и&nbsp;[<em>a</em>2​;&nbsp;<em>b</em>2​]. Напишите программу, которая находит их пересечение.</p><p>Пересечением двух отрезков может быть:</p><ul> <li>отрезок;</li> <li>точка;</li> <li>пустое множество.</li> </ul>"
   ]
  },
  {
   "cell_type": "code",
   "execution_count": 13,
   "metadata": {},
   "outputs": [
    {
     "name": "stdout",
     "output_type": "stream",
     "text": [
      "Первая линия: 15 - 9\n",
      "Вторая линия: 5 - 9\n",
      "Первая линия нормализованная: 9 - 15\n",
      "Пересечение в точке 9\n"
     ]
    }
   ],
   "source": [
    "a1 = int(input(\"Введите первую координату первой линии\"))\n",
    "b1 = int(input(\"Введите вторую координату первой линии\"))\n",
    "a2 = int(input(\"Введите первую координату второй линии\"))\n",
    "b2 = int(input(\"Введите вторую координату второй линии\"))\n",
    "print(f\"Первая линия: {a1} - {b1}\")\n",
    "print(f\"Вторая линия: {a2} - {b2}\")\n",
    "\n",
    "if b1 < a1:\n",
    "    a1, b1, = b1, a1\n",
    "    print(f\"Первая линия нормализованная: {a1} - {b1}\")\n",
    "if b2 < a2:\n",
    "    a2, b2, = b2, a2\n",
    "    print(f\"Вторая линия нормализованная: {a2} - {b2}\")\n",
    "\n",
    "if a1 < a2 < b1 < b2:\n",
    "    print(f\"Пересечение линий на отрезке {a2} - {b1}\")\n",
    "elif a2 < a1 < b2 < b1:\n",
    "    print(f\"Пересечение линий на отрезке {a1} - {b2}\")\n",
    "elif a1 < a2 and b1 == a2 and b1 < b2:\n",
    "    print(f\"Пересечение в точке {b1}\")\n",
    "elif a1 > a2 and b2 == a1 and b1 > a2:\n",
    "    print(f\"Пересечение в точке {b2}\")\n",
    "elif a1 < a2 and b1 > b2:\n",
    "    print(f\"Пересечение линий на отрезке {a2} - {b2}\")\n",
    "elif a1 > a2 and b1 < b2:\n",
    "    print(f\"Пересечение линий на отрезке {a1} - {b1}\")\n",
    "else:\n",
    "    print(\"Пересечений нет\")"
   ]
  }
 ],
 "metadata": {
  "kernelspec": {
   "display_name": "venv",
   "language": "python",
   "name": "python3"
  },
  "language_info": {
   "codemirror_mode": {
    "name": "ipython",
    "version": 3
   },
   "file_extension": ".py",
   "mimetype": "text/x-python",
   "name": "python",
   "nbconvert_exporter": "python",
   "pygments_lexer": "ipython3",
   "version": "3.9.6"
  },
  "orig_nbformat": 4
 },
 "nbformat": 4,
 "nbformat_minor": 2
}
