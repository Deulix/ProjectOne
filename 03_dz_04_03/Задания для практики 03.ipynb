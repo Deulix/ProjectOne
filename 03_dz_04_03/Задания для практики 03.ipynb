{
 "cells": [
  {
   "cell_type": "markdown",
   "metadata": {},
   "source": [
    "# Лекция 3: \"Основы Python (часть 1)\""
   ]
  },
  {
   "cell_type": "markdown",
   "metadata": {
    "vscode": {
     "languageId": "sql"
    }
   },
   "source": [
    "### Задание 1 \n",
    "Есть три целочисленные переменные, нужно посчитать:\n",
    "\n",
    "- сумму\n",
    "- разность\n",
    "- произведение\n",
    "- от первой переменной отнять вторую и прибавить третью\n",
    "- поделить произведение двух переменных на третью\n",
    "- от суммы первых двух переменных найти остаток от деления\n",
    "на третью переменную"
   ]
  },
  {
   "cell_type": "code",
   "execution_count": null,
   "metadata": {},
   "outputs": [
    {
     "name": "stdout",
     "output_type": "stream",
     "text": [
      "Сумма чисел равна 57\n",
      "Разность чисел равна -13\n",
      "Произведение чисел равно 6292\n",
      "A - B + C равно 31\n",
      "A * B / C равно 13.0\n",
      "Остаток от деления A + B на С равно 13\n"
     ]
    }
   ],
   "source": [
    "a = int(input(\"Введите первое число: \"))\n",
    "b = int(input(\"Введите второе число: \"))\n",
    "c = int(input(\"Введите третье число: \"))\n",
    "print(\n",
    "    f\"\"\"Сумма всех чисел равна {a + b + c}\n",
    "    Разность A - B - C равна {a - b - c}\n",
    "    Произведение A * B * C равно {a * b * c}\n",
    "    A - B + C равно {a - b + c}\n",
    "    A * B / C равно {a * b / c}\n",
    "    Остаток от деления A + B на С равно {(a + b) % c}\"\"\"\n",
    "    )"
   ]
  },
  {
   "cell_type": "markdown",
   "metadata": {
    "vscode": {
     "languageId": "sql"
    }
   },
   "source": [
    "### Задание 2  \n",
    "Дан прямоугольный треугольник с катетами cat_a и cat_b. \n",
    "Найти площадь треугольника и его гипотенузу."
   ]
  },
  {
   "cell_type": "code",
   "execution_count": 2,
   "metadata": {},
   "outputs": [
    {
     "name": "stdout",
     "output_type": "stream",
     "text": [
      "26.18033988749895\n"
     ]
    }
   ],
   "source": [
    "cat_a = 10\n",
    "cat_b = 20\n",
    "gip = (cat_a ** 2 + cat_b ** 2) ** 0.5\n",
    "S = (cat_a + cat_b + gip) / 2\n",
    "print(S)"
   ]
  },
  {
   "cell_type": "markdown",
   "metadata": {},
   "source": [
    "### Задание 3  \n",
    "Дана строка, состоящая из слов, разделенных пробелами. \n",
    "(Вот 4 варианта тестовых данных для программы: \n",
    "‘Hello world’, ‘a b c’, ‘test’,\n",
    "‘test1 test2 test3 test4 test5’). \n",
    "Определите, сколько в ней слов."
   ]
  },
  {
   "cell_type": "code",
   "execution_count": 4,
   "metadata": {},
   "outputs": [
    {
     "name": "stdout",
     "output_type": "stream",
     "text": [
      "2\n"
     ]
    }
   ],
   "source": [
    "string = \"Hello world\"\n",
    "str = string.split(\" \")\n",
    "print(len(str))"
   ]
  },
  {
   "cell_type": "markdown",
   "metadata": {},
   "source": [
    "### Задание 4 \n",
    " Дана строка. \n",
    "Замените в этой строке все появления буквы h на\n",
    "букву H, кроме первого и последнего вхождения.\n",
    "Подсказка: использовать метод replace с параметрами.\n",
    "Например, дано: ‘hhhabchghhh’, должно быть: ‘hHHabcHgHHh’"
   ]
  },
  {
   "cell_type": "code",
   "execution_count": 7,
   "metadata": {},
   "outputs": [
    {
     "name": "stdout",
     "output_type": "stream",
     "text": [
      "hhhabchghhh\n",
      "HHHabcHgHHH\n"
     ]
    }
   ],
   "source": [
    "string = \"hhhabchghhh\"\n",
    "str = string.replace(\"h\", \"H\")\n",
    "print(string)\n",
    "print(str)\n"
   ]
  },
  {
   "cell_type": "markdown",
   "metadata": {},
   "source": [
    "### Задание 5 \n",
    "\n",
    "Дана строка.\n",
    "- Сначала выведите третий символ этой строки.\n",
    "- Во второй строке выведите предпоследний символ строки.\n",
    "- В третьей строке выведите первые пять символов строки.\n",
    "- В четвертой выведите всю до последних двух символов.\n",
    "- В пятой строке выведите все символы с четными индексами\n",
    "(считая, что индексация начинается с 0, поэтому символы\n",
    "выводятся начиная с первого).\n",
    "- В шестой строке выведите все символы с нечетными\n",
    "индексами, то есть начиная со второго символа строки.\n",
    "- В седьмой строке выведите все символы в обратном порядке.\n",
    "- В восьмой строке выведите все символы строки через один в\n",
    "обратном порядке, начиная с последнего.\n",
    "- В девятой строке выведите длину данной строки.\n",
    "\n",
    "\n",
    "Тестовые данные для 5 задачи:\n",
    "строка ‘Hello’, должно быть:\n",
    "- l\n",
    "- l\n",
    "- Hello\n",
    "- Hel\n",
    "- Hlo\n",
    "- el\n",
    "- olleH\n",
    "- olH\n",
    "- 5\n",
    "строка ‘TEST-STR’:\n",
    "- S\n",
    "- T\n",
    "- TEST-\n",
    "- TEST-S\n",
    "- TS-T\n",
    "- ETSR\n",
    "- RTS-TSET\n",
    "- RSTE\n",
    "- 8"
   ]
  },
  {
   "cell_type": "code",
   "execution_count": 168,
   "metadata": {},
   "outputs": [
    {
     "name": "stdout",
     "output_type": "stream",
     "text": [
      "l l Hello Hel Hlo el olleH olH 5\n",
      "S T TEST- TEST-S TS-T ETSR RTS-TSET RSTE 8\n"
     ]
    }
   ],
   "source": [
    "str = \"Hello\"\n",
    "print(str[2], str[-2], str[0:5], str[0:-2], str[::2], str[1::2], str[::-1], str[::-2], len(str))\n",
    "str = \"TEST-STR\"\n",
    "print(str[2], str[-2], str[0:5], str[0:-2], str[::2], str[1::2], str[::-1], str[::-2], len(str))\n"
   ]
  },
  {
   "cell_type": "markdown",
   "metadata": {},
   "source": [
    "### Задание 6 \n",
    "\n",
    "Дано целое число. Выведите его последнюю цифру.\n",
    "Например, дано 200 - последняя цифра 0. Дано 123 - последняя\n",
    "цифра 3. Дано 587 - последняя 7."
   ]
  },
  {
   "cell_type": "code",
   "execution_count": 120,
   "metadata": {},
   "outputs": [
    {
     "name": "stdout",
     "output_type": "stream",
     "text": [
      "0 3 7\n"
     ]
    }
   ],
   "source": [
    "num = \"200\"\n",
    "num1 = \"123\"\n",
    "num2 = \"587\"\n",
    "print(num[-1], num1[-1], num2[-1])\n"
   ]
  },
  {
   "cell_type": "markdown",
   "metadata": {},
   "source": [
    "### Задание 7 \n",
    "Дано трехзначное число, найти количество его десятков.\n",
    "Например, дано 123 – количество десятков: 2, дано 978 –\n",
    "количество десятков: 7.\n"
   ]
  },
  {
   "cell_type": "code",
   "execution_count": 124,
   "metadata": {},
   "outputs": [
    {
     "name": "stdout",
     "output_type": "stream",
     "text": [
      "2\n",
      "7\n"
     ]
    }
   ],
   "source": [
    "num = 123\n",
    "num1 = 978\n",
    "print(num // 10 % 10)\n",
    "print(num1 // 10 % 10)\n",
    "\n"
   ]
  },
  {
   "cell_type": "markdown",
   "metadata": {},
   "source": [
    "### Задание 8. \n",
    "Дано трехзначное число, найти сумму его цифр. Например,\n",
    "дано 123 – сумма 6, дано 555, сумма 15."
   ]
  },
  {
   "cell_type": "code",
   "execution_count": 129,
   "metadata": {},
   "outputs": [
    {
     "name": "stdout",
     "output_type": "stream",
     "text": [
      "6\n",
      "15\n"
     ]
    }
   ],
   "source": [
    "num = 123\n",
    "num1 = 555\n",
    "print((num % 10) + (num // 10 % 10) + (num // 100 % 10))\n",
    "print((num1 % 10) + (num1 // 10 % 10) + (num1 // 100 % 10))\n",
    "\n"
   ]
  }
 ],
 "metadata": {
  "kernelspec": {
   "display_name": "venv",
   "language": "python",
   "name": "python3"
  },
  "language_info": {
   "codemirror_mode": {
    "name": "ipython",
    "version": 3
   },
   "file_extension": ".py",
   "mimetype": "text/x-python",
   "name": "python",
   "nbconvert_exporter": "python",
   "pygments_lexer": "ipython3",
   "version": "3.9.6"
  }
 },
 "nbformat": 4,
 "nbformat_minor": 2
}
