{
 "cells": [
  {
   "cell_type": "markdown",
   "metadata": {},
   "source": [
    "# 1"
   ]
  },
  {
   "cell_type": "code",
   "execution_count": null,
   "metadata": {},
   "outputs": [
    {
     "name": "stdout",
     "output_type": "stream",
     "text": [
      "У вас газировка со вкусом Мятный\n",
      "У вас обычная газировка\n"
     ]
    }
   ],
   "source": [
    "class Soda:\n",
    "    def __init__(self, taste = \"\"):\n",
    "        self.taste = taste\n",
    "\n",
    "    def info(self):\n",
    "        if self.taste:\n",
    "            print(f\"У вас газировка со вкусом {self.taste}\")\n",
    "        else:\n",
    "            print(f\"У вас обычная газировка\")\n",
    "\n",
    "soda = Soda(\"Мятный\")\n",
    "soda2 = Soda()\n",
    "\n",
    "soda.info()\n",
    "soda2.info()"
   ]
  },
  {
   "cell_type": "markdown",
   "metadata": {},
   "source": [
    "# 2"
   ]
  },
  {
   "cell_type": "code",
   "execution_count": 15,
   "metadata": {},
   "outputs": [
    {
     "name": "stdout",
     "output_type": "stream",
     "text": [
      "8\n",
      "-14\n",
      "4\n",
      "ERROR: division by zero\n",
      "3.0\n"
     ]
    }
   ],
   "source": [
    "class Math:\n",
    "    def addition(self, a, b):\n",
    "        return a + b\n",
    "    def subtraction(self, a, b):\n",
    "        return a - b\n",
    "    def multiplication(self, a, b):\n",
    "        return a * b\n",
    "    def division(self, a, b):\n",
    "        try:\n",
    "            return a / b\n",
    "        except ZeroDivisionError as e:\n",
    "            return f\"ERROR: {e}\"\n",
    "\n",
    "con = Math()\n",
    "print(con.addition(3, 5))\n",
    "print(con.subtraction(5, 19))\n",
    "print(con.multiplication(2, 2))\n",
    "print(con.division(9, 0))\n",
    "print(con.division(9, 3))\n",
    "\n",
    "\n",
    "\n"
   ]
  },
  {
   "cell_type": "markdown",
   "metadata": {},
   "source": [
    "# 3"
   ]
  },
  {
   "cell_type": "code",
   "execution_count": 4,
   "metadata": {},
   "outputs": [
    {
     "name": "stdout",
     "output_type": "stream",
     "text": [
      "Engine started\n",
      "Engine stoped\n",
      "Car1 has white color, type is sportcar and it's from 1995 year.\n",
      "Car2 has brown color, type is sedan and it's from 2015 year.\n",
      "Color was changed to violet\n",
      "Year was changed to 2024\n",
      "Type was changed to helicopter\n",
      "Car1 has violet color, type is sportcar and it's from 1995 year.\n",
      "Car2 has brown color, type is helicopter and it's from 2024 year.\n"
     ]
    }
   ],
   "source": [
    "class Car:\n",
    "    def __init__(self, color, type, year):\n",
    "        self.color = color\n",
    "        self.type = type\n",
    "        self.year = year\n",
    "    \n",
    "    def start_engine(self):\n",
    "        print(\"Engine started\")\n",
    "    @property\n",
    "    def stop_engine(self):\n",
    "        print(\"Engine stoped\")\n",
    "    def set_color(self, new_color):\n",
    "        self.color = new_color\n",
    "        print(f\"Color was changed to {new_color}\")\n",
    "    def set_type(self, new_type):\n",
    "        self.type = new_type\n",
    "        print(f\"Type was changed to {new_type}\")\n",
    "    def set_year(self, new_year):\n",
    "        self.year = new_year\n",
    "        print(f\"Year was changed to {new_year}\")\n",
    "\n",
    "car1 = Car(\"white\", \"sportcar\", \"1995\")\n",
    "car2 = Car(\"brown\", \"sedan\", \"2015\")\n",
    "\n",
    "car1.start_engine()\n",
    "car1.stop_engine\n",
    "\n",
    "print(f\"Car1 has {car1.color} color, type is {car1.type} and it's from {car1.year} year.\")\n",
    "print(f\"Car2 has {car2.color} color, type is {car2.type} and it's from {car2.year} year.\")\n",
    "\n",
    "car1.set_color(\"violet\")\n",
    "car2.set_year(\"2024\")\n",
    "car2.set_type(\"helicopter\")\n",
    "\n",
    "print(f\"Car1 has {car1.color} color, type is {car1.type} and it's from {car1.year} year.\")\n",
    "print(f\"Car2 has {car2.color} color, type is {car2.type} and it's from {car2.year} year.\")\n",
    "\n",
    "        \n",
    "                "
   ]
  },
  {
   "cell_type": "markdown",
   "metadata": {},
   "source": [
    "# 4"
   ]
  },
  {
   "cell_type": "code",
   "execution_count": 54,
   "metadata": {},
   "outputs": [
    {
     "name": "stdout",
     "output_type": "stream",
     "text": [
      "Sphere sucsessfuly created\n",
      "V of sphere = 33.510321638291124\n",
      "S of sphere = 50.26548245743669\n",
      "Radius = 2\n",
      "Center of sphere: (4, 6, 8)\n",
      "Radius = 20\n",
      "Center of sphere: (3, 9, 4)\n",
      "True\n",
      "False\n"
     ]
    }
   ],
   "source": [
    "from math import pi, sqrt\n",
    "\n",
    "\n",
    "class Sphere:\n",
    "    def __init__(self, rad=1, x=0, y=0, z=0):\n",
    "        self.rad = rad\n",
    "        self.x = x\n",
    "        self.y = y\n",
    "        self.z = z\n",
    "        # print(f\"Sphere with radius {rad}, coords: {x, y, z}\")\n",
    "        print(\"Sphere sucsessfuly created\")\n",
    "\n",
    "    @property\n",
    "    def get_volume(self):\n",
    "        print(f\"V of sphere = {4 / 3 * pi * self.rad ** 3}\")\n",
    "\n",
    "    @property\n",
    "    def get_square(self):\n",
    "        print(f\"S of sphere = {4 * pi * self.rad ** 2}\")\n",
    "\n",
    "    @property\n",
    "    def get_radius(self):\n",
    "        print(f\"Radius = {self.rad}\")\n",
    "    \n",
    "    @property\n",
    "    def get_center(self):\n",
    "        print(f\"Center of sphere: {self.x, self.y, self.z}\")\n",
    "\n",
    "    def set_radius(self, new_r):\n",
    "        self.rad = new_r\n",
    "    \n",
    "    def set_center(self, x1, y1, z1):\n",
    "        self.x = x1\n",
    "        self.y = y1\n",
    "        self.z = z1\n",
    "    \n",
    "    def is_point_inside(self, x2, y2, z2):\n",
    "        dist = sqrt((self.x - x2)**2+(self.y - y2)**2+(self.z - z2)**2)\n",
    "        return dist <= self.rad\n",
    "    \n",
    "sss = Sphere(2, 4, 6, 8)\n",
    "sss.get_volume\n",
    "sss.get_square\n",
    "sss.get_radius\n",
    "sss.get_center\n",
    "sss.set_radius(20)\n",
    "sss.get_radius\n",
    "sss.set_center(3, 9, 4)\n",
    "sss.get_center\n",
    "print(sss.is_point_inside(2, 3, 7))\n",
    "print(sss.is_point_inside(2, 333, 7))\n",
    "\n"
   ]
  },
  {
   "cell_type": "markdown",
   "metadata": {},
   "source": [
    "# 5"
   ]
  },
  {
   "cell_type": "code",
   "execution_count": null,
   "metadata": {},
   "outputs": [
    {
     "name": "stdout",
     "output_type": "stream",
     "text": [
      "123\n",
      "a\n",
      "Repeatable: False\n",
      "Palindrome: False\n",
      "\n",
      "valk\n",
      "valk\n",
      "Repeatable: True\n",
      "Palindrome: False\n",
      "\n",
      "KANaK\n",
      "KAN\n",
      "Repeatable: False\n",
      "Palindrome: True\n",
      "\n",
      "aaaaa\n",
      "a\n",
      "Repeatable: True\n",
      "Palindrome: True\n"
     ]
    }
   ],
   "source": [
    "class SuperStr(str):\n",
    "    def __init__(self, value=\"\"):\n",
    "        super().__init__()\n",
    "        self.value = value\n",
    "    def is_repeatance(self, s):\n",
    "        div_mult = len(self.value) / len(s) # или // оставил так, т.к. на этом моменте можно сразу вернуть False, нам нужно целое количевто повротений\n",
    "        print(self.value)\n",
    "        print(s)\n",
    "        if not self.value:\n",
    "            return False\n",
    "        return s * int(div_mult) == self.value # тогда просто s * div_mult == self.value\n",
    "    \n",
    "    @property\n",
    "    def is_palindrom(self):\n",
    "        return self.value.lower() == self.value.lower()[::-1] # можно убрать .lower() если регистр важен\n",
    "\n",
    "\n",
    "a = SuperStr(\"123\")\n",
    "print(f\"Repeatable: {a.is_repeatance('a')}\")\n",
    "print(f\"Palindrome: {a.is_palindrom}\\n\")\n",
    "\n",
    "b = SuperStr(\"valk\")\n",
    "print(f\"Repeatable: {b.is_repeatance('valk')}\")\n",
    "print(f\"Palindrome: {b.is_palindrom}\\n\")\n",
    "\n",
    "c = SuperStr(\"KANaK\")\n",
    "print(f\"Repeatable: {c.is_repeatance('KAN')}\")\n",
    "print(f\"Palindrome: {c.is_palindrom}\\n\")\n",
    "\n",
    "d = SuperStr(\"aaaaa\")\n",
    "print(f\"Repeatable: {d.is_repeatance('a')}\")\n",
    "print(f\"Palindrome: {d.is_palindrom}\")\n"
   ]
  }
 ],
 "metadata": {
  "kernelspec": {
   "display_name": "venv",
   "language": "python",
   "name": "python3"
  },
  "language_info": {
   "codemirror_mode": {
    "name": "ipython",
    "version": 3
   },
   "file_extension": ".py",
   "mimetype": "text/x-python",
   "name": "python",
   "nbconvert_exporter": "python",
   "pygments_lexer": "ipython3",
   "version": "3.9.6"
  }
 },
 "nbformat": 4,
 "nbformat_minor": 2
}
