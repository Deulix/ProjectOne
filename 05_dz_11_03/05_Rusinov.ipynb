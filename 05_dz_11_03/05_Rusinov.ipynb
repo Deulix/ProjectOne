{
 "cells": [
  {
   "cell_type": "markdown",
   "metadata": {},
   "source": [
    "# Задание 1"
   ]
  },
  {
   "cell_type": "code",
   "execution_count": null,
   "metadata": {},
   "outputs": [],
   "source": []
  },
  {
   "cell_type": "markdown",
   "metadata": {},
   "source": [
    "# Задание 2"
   ]
  },
  {
   "cell_type": "code",
   "execution_count": 34,
   "metadata": {},
   "outputs": [
    {
     "name": "stdout",
     "output_type": "stream",
     "text": [
      "День 1\n",
      "Осталось выплатить 22\n",
      "День 2\n",
      "Осталось выплатить 19\n",
      "День 3\n",
      "Осталось выплатить 16\n",
      "День 4\n",
      "Осталось выплатить 13\n",
      "День 5\n",
      "Осталось выплатить 10\n",
      "День 6\n",
      "Осталось выплатить 7\n",
      "День 7\n",
      "Взнос не делался. Осталось выплатить 7\n",
      "День 8\n",
      "Осталось выплатить 4\n",
      "День 9\n",
      "Осталось выплатить 1\n",
      "День 10\n",
      "Сумма выплачена\n",
      "\n",
      "Общее количество дней: 10\n"
     ]
    }
   ],
   "source": [
    "summ = int(input(\"Введите стоимость телефона: \"))\n",
    "k = int(input(\"Введите ежедневный взнос: \"))\n",
    "j = 0\n",
    "\n",
    "while summ > 0:\n",
    "    j += 1\n",
    "\n",
    "    if j % 7 == 0:\n",
    "        print(f\"День {j}\")\n",
    "        print(f\"Взнос не делался. Осталось выплатить {summ}\")\n",
    "    \n",
    "    else: \n",
    "        summ -= k\n",
    "        if summ > 0:\n",
    "            print(f\"День {j}\")\n",
    "            print(f\"Осталось выплатить {summ}\")\n",
    "        elif summ <= 0:\n",
    "            print(f\"День {j}\")\n",
    "            print(f\"Сумма выплачена\\n\")\n",
    "\n",
    "print(f\"Общее количество дней: {j}\")"
   ]
  },
  {
   "cell_type": "markdown",
   "metadata": {},
   "source": [
    "# Задание 3"
   ]
  },
  {
   "cell_type": "code",
   "execution_count": 28,
   "metadata": {},
   "outputs": [
    {
     "name": "stdout",
     "output_type": "stream",
     "text": [
      "[1, 1, 2, 3, 5, 8, 13, 21, 34, 55, 89, 144, 233, 377, 610, 987, 1597, 2584, 4181, 6765, 10946, 17711, 28657, 46368, 75025, 121393, 196418, 317811, 514229, 832040, 1346269, 2178309, 3524578, 5702887, 9227465, 14930352, 24157817, 39088169, 63245986, 102334155, 165580141, 267914296, 433494437, 701408733, 1134903170, 1836311903, 2971215073, 4807526976, 7778742049, 12586269025, 20365011074, 32951280099, 53316291173, 86267571272, 139583862445, 225851433717, 365435296162, 591286729879, 956722026041, 1548008755920, 2504730781961, 4052739537881, 6557470319842, 10610209857723, 17167680177565, 27777890035288, 44945570212853, 72723460248141, 117669030460994, 190392490709135, 308061521170129, 498454011879264, 806515533049393, 1304969544928657, 2111485077978050, 3416454622906707, 5527939700884757, 8944394323791464, 14472334024676221, 23416728348467685, 37889062373143906, 61305790721611591, 99194853094755497, 160500643816367088, 259695496911122585, 420196140727489673, 679891637638612258, 1100087778366101931, 1779979416004714189, 2880067194370816120, 4660046610375530309, 7540113804746346429, 12200160415121876738, 19740274219868223167, 31940434634990099905, 51680708854858323072, 83621143489848422977, 135301852344706746049, 218922995834555169026, 354224848179261915075, 573147844013817084101, 927372692193078999176]\n"
     ]
    }
   ],
   "source": [
    "m = [1, 1]\n",
    "i = 0\n",
    "\n",
    "while i < 100:\n",
    "    n = m[-2] + m[-1]\n",
    "    m.append(n)\n",
    "    i += 1\n",
    "\n",
    "print(m)"
   ]
  },
  {
   "cell_type": "markdown",
   "metadata": {},
   "source": [
    "# Задание 4"
   ]
  },
  {
   "cell_type": "code",
   "execution_count": 70,
   "metadata": {},
   "outputs": [
    {
     "name": "stdout",
     "output_type": "stream",
     "text": [
      "[36, 8, 11]\n",
      "Минимальное число из списка: 8, максимальное число 36, сумма всех чисел равна 55\n"
     ]
    }
   ],
   "source": [
    "import random\n",
    "\n",
    "a = []\n",
    "n = random.randint(2, 20)\n",
    "\n",
    "for i in range(n):\n",
    "    i = random.randint(1, 50)\n",
    "    a.append(i)\n",
    "\n",
    "print(a)\n",
    "print(f\"Минимальное число из списка: {min(a)}, максимальное число {max(a)}, сумма всех чисел равна {sum(a)}\")"
   ]
  },
  {
   "cell_type": "markdown",
   "metadata": {},
   "source": [
    "# Задание 5"
   ]
  },
  {
   "cell_type": "code",
   "execution_count": 192,
   "metadata": {},
   "outputs": [
    {
     "name": "stdout",
     "output_type": "stream",
     "text": [
      "[6, 18, 34, 2, 38, 40, 48, 18, 16, 49, 5, 43, 38, 32]\n",
      "Уникальные числа [6, 34, 2, 40, 48, 16, 49, 5, 43, 32], повторяемые числа [18, 38] \n",
      "Число 18 встречается 2 раз(а)\n",
      "Число 38 встречается 2 раз(а)\n"
     ]
    }
   ],
   "source": [
    "import copy\n",
    "import random\n",
    "\n",
    "unique_nums = []\n",
    "dubs = []\n",
    "ending = \"\"\n",
    "mylist = []\n",
    "n = random.randint(2, 20)\n",
    "endlist = \"\"\n",
    "\n",
    "for i in range(n):\n",
    "    i = random.randint(1, 50)\n",
    "    mylist.append(i)\n",
    "\n",
    "for j in mylist:\n",
    "    if j not in unique_nums:\n",
    "        unique_nums.append(j)\n",
    "    else:\n",
    "        dubs.append(j)\n",
    "        unique_nums.remove(j)\n",
    "if dubs == []:\n",
    "    dubs = \"отсутствуют\"\n",
    "else:\n",
    "    pepe = copy.copy(dubs)\n",
    "    for p in pepe:\n",
    "        endlist = endlist + f\"\\nЧисло {p} встречается {mylist.count(p)} раз(а)\"\n",
    "        del p\n",
    "    ending = endlist\n",
    "\n",
    "print(mylist)\n",
    "print(f\"Уникальные числа {unique_nums}, повторяемые числа {dubs}\", ending)"
   ]
  },
  {
   "cell_type": "markdown",
   "metadata": {},
   "source": [
    "# Задание 6"
   ]
  },
  {
   "cell_type": "code",
   "execution_count": null,
   "metadata": {},
   "outputs": [
    {
     "name": "stdout",
     "output_type": "stream",
     "text": [
      "[2, 4, 4, 4, 4, 9, 10, 11, 12, 12, 13, 13, 14, 18, 18, 18, 21, 22, 24, 26, 30, 31, 33, 38, 40, 40, 43, 43, 43, 43, 44, 44, 46, 46, 49, 49]\n",
      "Первое вхождение числа 2 на позиции 0\n"
     ]
    }
   ],
   "source": [
    "import random\n",
    "mylist = []\n",
    "n = random.randint(10, 50)\n",
    "\n",
    "for i in range(n):\n",
    "    mylist.append(random.randint(1, 50))\n",
    "\n",
    "mylist.sort()\n",
    "print(mylist)\n",
    "\n",
    "val = int(input(\"Введите искомое число: \"))\n",
    "low = 0\n",
    "high = len(mylist) - 1\n",
    "res = -1\n",
    "\n",
    "while low <= high:\n",
    "    med = (low + high) // 2 \n",
    "    if val == mylist[med]:\n",
    "        res = med\n",
    "        high = med - 1\n",
    "        print(f\"Первое вхождение числа {val} на позиции {res}\")\n",
    "        break\n",
    "    elif val < mylist[med]:\n",
    "        high = med - 1\n",
    "    else:\n",
    "        low = med + 1\n",
    "\n",
    "if res == -1:\n",
    "    print(f\"Число {val} не найдено\")\n"
   ]
  },
  {
   "cell_type": "markdown",
   "metadata": {},
   "source": [
    "# Задание 7"
   ]
  },
  {
   "cell_type": "code",
   "execution_count": null,
   "metadata": {},
   "outputs": [
    {
     "name": "stdout",
     "output_type": "stream",
     "text": [
      "Число 4 на позиции 11\n"
     ]
    }
   ],
   "source": [
    "\n",
    "def find_min(x):\n",
    "    low = 0\n",
    "    high = len(x) - 1\n",
    "\n",
    "    while low < high:\n",
    "        med = (low + high) // 2\n",
    "        if x[med] < x[high]:\n",
    "            high = med\n",
    "        else:\n",
    "            low = med + 1\n",
    "    return low\n",
    "\n",
    "a = find_min(mylist)\n",
    "\n",
    "def bin_search(lst, val, low, high):\n",
    "    while low <= high:\n",
    "        med = (low + high) // 2 \n",
    "        if val == lst[med]:\n",
    "            return med\n",
    "        elif val < lst[med]:\n",
    "            high = med - 1\n",
    "        else:\n",
    "            low = med + 1\n",
    "    return -1\n",
    "\n",
    "def bin_search_fixed(lst, val):\n",
    "    if not lst:\n",
    "        return -1\n",
    "    \n",
    "    point = find_min(lst)\n",
    "    if lst[point] <= val <= lst[-1]:\n",
    "        return bin_search(lst, val, point, len(lst) - 1)\n",
    "    else:\n",
    "        return bin_search(lst, val, 0, point - 1)\n",
    "\n",
    "mylist = [5, 6, 7, 8, 9, 10, 11, 0, 1, 2, 3, 4]\n",
    "val = int(input(\"Введите число для поиска: \"))\n",
    "res = bin_search_fixed(mylist, val)\n",
    "\n",
    "if res != -1:\n",
    "    print(f\"Число {val} на позиции {res}\")\n",
    "else:\n",
    "    print(f\"Число {val} не найдено\")\n"
   ]
  }
 ],
 "metadata": {
  "kernelspec": {
   "display_name": "venv",
   "language": "python",
   "name": "python3"
  },
  "language_info": {
   "codemirror_mode": {
    "name": "ipython",
    "version": 3
   },
   "file_extension": ".py",
   "mimetype": "text/x-python",
   "name": "python",
   "nbconvert_exporter": "python",
   "pygments_lexer": "ipython3",
   "version": "3.9.6"
  }
 },
 "nbformat": 4,
 "nbformat_minor": 2
}
