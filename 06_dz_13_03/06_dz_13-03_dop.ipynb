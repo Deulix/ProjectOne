{
 "cells": [
  {
   "cell_type": "markdown",
   "metadata": {},
   "source": [
    "# Python: задачи и решения"
   ]
  },
  {
   "cell_type": "markdown",
   "metadata": {},
   "source": [
    "## 2. Функции, условия и циклы"
   ]
  },
  {
   "cell_type": "markdown",
   "metadata": {},
   "source": [
    "### Задача 2.1"
   ]
  },
  {
   "cell_type": "markdown",
   "metadata": {},
   "source": [
    "Создать функцию calc(a, b, operation). Описание входных параметров:\n",
    "1. Первое число\n",
    "2. Второе число\n",
    "3. Действие над ними:\n",
    "   1) + Сложить\n",
    "   2) - Вычесть\n",
    "   3) * Умножить\n",
    "   4) / Разделить\n",
    "   5) В остальных случаях функция должна возвращать \"Операция не поддерживается\""
   ]
  },
  {
   "cell_type": "code",
   "execution_count": null,
   "metadata": {},
   "outputs": [
    {
     "data": {
      "text/plain": [
       "10"
      ]
     },
     "metadata": {},
     "output_type": "display_data"
    }
   ],
   "source": [
    "def calc(a, b, operation):\n",
    "    if operation == \"divide\":\n",
    "        return a / b\n",
    "    elif operation == \"multiply\":\n",
    "        return a * b\n",
    "    elif operation == \"minus\":\n",
    "        return a - b\n",
    "    elif operation == \"plus\":\n",
    "        return a + b\n",
    "    else:\n",
    "        return \"Error\"\n",
    "\n",
    "operation = \"multiply\"    \n",
    "calc(5, 2, operation)"
   ]
  },
  {
   "cell_type": "markdown",
   "metadata": {},
   "source": [
    "## Задача 2.2"
   ]
  },
  {
   "cell_type": "markdown",
   "metadata": {},
   "source": [
    "Напишите программу, которая будет выводить нечетные числа из списка и остановится, если встретит число 139"
   ]
  },
  {
   "cell_type": "code",
   "execution_count": null,
   "metadata": {},
   "outputs": [
    {
     "name": "stdout",
     "output_type": "stream",
     "text": [
      "[127, 133, 154, 122, 199, 139, 420, 421]\n"
     ]
    },
    {
     "data": {
      "text/plain": [
       "[127, 133, 199]"
      ]
     },
     "metadata": {},
     "output_type": "display_data"
    }
   ],
   "source": [
    "import random\n",
    "\n",
    "def count(list):\n",
    "    app = []\n",
    "    for i in list:\n",
    "        if i == 139:\n",
    "            break\n",
    "        elif i % 2 != 0:\n",
    "            app.append(i)\n",
    "        else:\n",
    "            pass\n",
    "    return app\n",
    "\n",
    "meow = [random.randint(100, 150) for _ in range(10)]\n",
    "print(meow)\n",
    "count(meow)"
   ]
  },
  {
   "cell_type": "markdown",
   "metadata": {},
   "source": [
    "### Задача 2.3"
   ]
  },
  {
   "cell_type": "markdown",
   "metadata": {},
   "source": [
    "Создайте список [ 18, 14, 10, 6, 2 ]  с помощью функции range()"
   ]
  },
  {
   "cell_type": "code",
   "execution_count": null,
   "metadata": {},
   "outputs": [
    {
     "name": "stdout",
     "output_type": "stream",
     "text": [
      "[1, 2, 3, 4, 5, 6, 7, 8, 9, 10, 11, 12, 13, 14, 15, 16, 17, 18]\n",
      "[18, 14, 10, 6, 2]\n"
     ]
    }
   ],
   "source": [
    "l1st = []\n",
    "arr = []\n",
    "for i in range(1, 19):\n",
    "    arr.append(i)\n",
    "l1st = arr[::-4]\n",
    "print(arr)\n",
    "print(l1st)"
   ]
  },
  {
   "cell_type": "markdown",
   "metadata": {},
   "source": [
    "### Задача 2.4"
   ]
  },
  {
   "cell_type": "markdown",
   "metadata": {},
   "source": [
    "Дан список lst = [11, 5, 8, 32, 15, 3, 20, 132, 21, 4, 555, 9, 20]. \n",
    "Необходимо вывести элементы, которые одновременно 1) меньше 30 и 2) делятся на 3 без остатка. Все остальные элементы списка необходимо просуммировать и вывести конечный результат."
   ]
  },
  {
   "cell_type": "code",
   "execution_count": null,
   "metadata": {},
   "outputs": [
    {
     "name": "stdout",
     "output_type": "stream",
     "text": [
      "[15, 21, 9] 790\n"
     ]
    }
   ],
   "source": [
    "lst = [11, 5, 8, 32, 15, 3, 20, 132, 21, 4, 555, 9, 20]\n",
    "lst2 = []\n",
    "for i in lst:\n",
    "    if i < 30 and i % 3 == 0:\n",
    "        lst2.append(i)\n",
    "        lst.remove(i)\n",
    "\n",
    "print(lst2, sum(lst))\n"
   ]
  },
  {
   "cell_type": "markdown",
   "metadata": {},
   "source": [
    "### Задача 2.5"
   ]
  },
  {
   "cell_type": "markdown",
   "metadata": {},
   "source": [
    "Написать функцию month_to_season(), которая принимает 1 аргумент - номер месяца - и возвращает название сезона, к которому относится этот месяц. \n",
    "Например, передаем 2, на выходе получаем 'Зима'. "
   ]
  },
  {
   "cell_type": "code",
   "execution_count": 1,
   "metadata": {},
   "outputs": [
    {
     "data": {
      "text/plain": [
       "'summer'"
      ]
     },
     "execution_count": 1,
     "metadata": {},
     "output_type": "execute_result"
    }
   ],
   "source": [
    "def month_to_season(number):\n",
    "    if number in [12, 1, 2]:\n",
    "        return \"winter\"\n",
    "    elif number in [3, 4, 5]:\n",
    "        return \"spring\"\n",
    "    elif number in [6, 7, 8]:\n",
    "        return \"summer\"\n",
    "    elif number in [9, 10, 11]:\n",
    "        return \"fall\"\n",
    "    else:\n",
    "        return \"Incorrect month\"\n",
    "    \n",
    "month_to_season(6)"
   ]
  }
 ],
 "metadata": {
  "kernelspec": {
   "display_name": "venv",
   "language": "python",
   "name": "python3"
  },
  "language_info": {
   "codemirror_mode": {
    "name": "ipython",
    "version": 3
   },
   "file_extension": ".py",
   "mimetype": "text/x-python",
   "name": "python",
   "nbconvert_exporter": "python",
   "pygments_lexer": "ipython3",
   "version": "3.9.6"
  }
 },
 "nbformat": 4,
 "nbformat_minor": 2
}
