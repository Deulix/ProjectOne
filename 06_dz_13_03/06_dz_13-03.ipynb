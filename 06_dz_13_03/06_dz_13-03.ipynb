{
 "cells": [
  {
   "cell_type": "markdown",
   "metadata": {},
   "source": [
    "# 1"
   ]
  },
  {
   "cell_type": "code",
   "execution_count": 293,
   "metadata": {},
   "outputs": [
    {
     "name": "stdout",
     "output_type": "stream",
     "text": [
      "[1, 1, 2, 3, 4, 6, 6, 8, 8, 8, 10]\n",
      "Элемент 2 стоит на позиции 2\n"
     ]
    }
   ],
   "source": [
    "import random\n",
    "\n",
    "from numpy import sort\n",
    "arr = []\n",
    "for i in range(11):\n",
    "    n = random.randint(1, 10)\n",
    "    arr.append(n)\n",
    "\n",
    "arr.sort()\n",
    "print(arr)\n",
    "\n",
    "def recurs_bin_search(arr, low, high, target):\n",
    "    if low <= high:\n",
    "        mid = (high + low) // 2\n",
    "        if arr[mid] == target:\n",
    "            return mid\n",
    "        elif arr[mid] < target:\n",
    "            return recurs_bin_search(arr, mid + 1, high, target)\n",
    "        else:\n",
    "            return recurs_bin_search(arr, low, mid - 1, target)\n",
    "    else:\n",
    "        return -1\n",
    "\n",
    "targ = random.randint(1, 10)\n",
    "result = recurs_bin_search(arr, 0, len(arr) - 1, targ)\n",
    "if result == -1:\n",
    "    print(f\"Элемент {targ} отсутстсвует в списке\")\n",
    "else:\n",
    "    print(f\"Элемент {targ} стоит на позиции {result}\")\n"
   ]
  },
  {
   "cell_type": "markdown",
   "metadata": {},
   "source": [
    "# 2"
   ]
  },
  {
   "cell_type": "code",
   "execution_count": 112,
   "metadata": {},
   "outputs": [
    {
     "name": "stdout",
     "output_type": "stream",
     "text": [
      "Число 81 в двоичном виде: 1010001\n"
     ]
    }
   ],
   "source": [
    "import random\n",
    "\n",
    "a = random.randint(1, 100)\n",
    "\n",
    "def decimal_to_binary(num):\n",
    "    if num == 0:\n",
    "        return []\n",
    "    else:\n",
    "        return decimal_to_binary(num // 2) + [num % 2]\n",
    "\n",
    "binary_list = decimal_to_binary(a)\n",
    "binary_string = ''.join(str(bit) for bit in binary_list)\n",
    "print(f\"Число {a} в двоичном виде: {binary_string}\")"
   ]
  },
  {
   "cell_type": "markdown",
   "metadata": {},
   "source": [
    "# 3"
   ]
  },
  {
   "cell_type": "code",
   "execution_count": 16,
   "metadata": {},
   "outputs": [
    {
     "name": "stdout",
     "output_type": "stream",
     "text": [
      "[1]\n",
      "[1, 19]\n"
     ]
    },
    {
     "data": {
      "text/plain": [
       "'простое'"
      ]
     },
     "execution_count": 16,
     "metadata": {},
     "output_type": "execute_result"
    }
   ],
   "source": [
    "import random\n",
    "\n",
    "\n",
    "def prime_num(num):\n",
    "    a = []\n",
    "    for i in range(1, num+1):\n",
    "        if num % i == 0:\n",
    "            a.append(i)\n",
    "            print(a)\n",
    "    if a == [1, num]:\n",
    "        return \"простое\"\n",
    "    else:\n",
    "        return \"сложное\"\n",
    "    \n",
    "prime_num(19)"
   ]
  },
  {
   "cell_type": "markdown",
   "metadata": {},
   "source": [
    "# 4"
   ]
  },
  {
   "cell_type": "code",
   "execution_count": 146,
   "metadata": {},
   "outputs": [
    {
     "name": "stdout",
     "output_type": "stream",
     "text": [
      "Наибольшим общим делителем(НОД) чисел 56 и 36 является число 4\n"
     ]
    }
   ],
   "source": [
    "x = random.randint(1, 100)\n",
    "y = random.randint(1, 100)\n",
    "\n",
    "\n",
    "def gcd(a, b):\n",
    "    while b != 0:\n",
    "        a, b = b, a % b\n",
    "    return abs(a)\n",
    "\n",
    "print(f\"Наибольшим общим делителем(НОД) чисел {x} и {y} является число {gcd(x, y)}\")\n"
   ]
  },
  {
   "cell_type": "markdown",
   "metadata": {},
   "source": [
    "# 5"
   ]
  },
  {
   "cell_type": "code",
   "execution_count": 197,
   "metadata": {},
   "outputs": [
    {
     "data": {
      "text/plain": [
       "'dered'"
      ]
     },
     "execution_count": 197,
     "metadata": {},
     "output_type": "execute_result"
    }
   ],
   "source": [
    "import string\n",
    "phrase = input(\"Enter your phrase: \")\n",
    "select_crypt = input(\"Encrypt(E) or decrypt(D): \").upper()\n",
    "\n",
    "def caesar(phrase: str, select_crypt: str) -> str:\n",
    "    \"\"\"Here is my explanation how it works, it's Caesar's encryptor, he-he-he\"\"\"\n",
    "    lower = list(string.ascii_lowercase)\n",
    "    upper = list(string.ascii_uppercase)\n",
    "    encrypt = []\n",
    "    decrypt = []\n",
    "\n",
    "    i = 0\n",
    "    all_letter = []\n",
    "    while i <26:\n",
    "        a = upper.pop(0)\n",
    "        all_letter.append(a)\n",
    "        b = lower.pop(0)\n",
    "        all_letter.append(b)\n",
    "        i += 1\n",
    "    all_letter = \"\".join(all_letter)\n",
    "\n",
    "    if select_crypt == \"E\":\n",
    "        for i in phrase:\n",
    "            if i in all_letter:\n",
    "                indx = all_letter.index(i)\n",
    "                new_indx = (indx + 6) % len(all_letter)\n",
    "                encrypt.append(all_letter[new_indx])\n",
    "            else:\n",
    "                encrypt.append(i)\n",
    "        return \"\".join(encrypt)\n",
    "    elif select_crypt == \"D\":\n",
    "        for i in phrase:\n",
    "            if i in all_letter:\n",
    "                indx = all_letter.index(i)\n",
    "                new_indx = (indx - 6) % len(all_letter)\n",
    "                decrypt.append(all_letter[new_indx])\n",
    "            elif i:\n",
    "                decrypt.append(i)\n",
    "        return \"\".join(decrypt)\n",
    "    else:\n",
    "        return \"WRONG OPERATION\"\n",
    "    \n",
    "caesar(phrase, select_crypt)\n"
   ]
  },
  {
   "cell_type": "markdown",
   "metadata": {},
   "source": [
    "# 6"
   ]
  },
  {
   "cell_type": "code",
   "execution_count": null,
   "metadata": {},
   "outputs": [],
   "source": [
    "##################################################\n",
    "##################################################\n",
    "##################################################\n",
    "##################################################\n",
    "##################################################\n",
    "##################################################\n",
    "##################################################\n",
    "##################################################\n",
    "##################################################\n",
    "##################################################\n",
    "##################################################\n",
    "##################################################\n",
    "##################################################\n",
    "##################################################\n",
    "##################################################\n",
    "##################################################\n",
    "##################################################\n",
    "##################################################"
   ]
  },
  {
   "cell_type": "markdown",
   "metadata": {},
   "source": [
    "# 7"
   ]
  },
  {
   "cell_type": "code",
   "execution_count": 210,
   "metadata": {},
   "outputs": [
    {
     "data": {
      "text/plain": [
       "[[10, 1, 5, 4, 2],\n",
       " [8, 3, 10, 2, 6],\n",
       " [6, 10, 5, 4, 2],\n",
       " [9, 3, 10, 4, 10],\n",
       " [4, 5, 8, 6, 7]]"
      ]
     },
     "execution_count": 210,
     "metadata": {},
     "output_type": "execute_result"
    }
   ],
   "source": [
    "def matrix_ins(m, n):\n",
    "    matrix = []\n",
    "    for i in range(m):\n",
    "        row = []\n",
    "        for j in range(n):\n",
    "                row.append(random.randint(1, 10))\n",
    "        matrix.append(row)\n",
    "    return matrix\n",
    "\n",
    "matrix_ins(5,5)\n",
    "            \n",
    "            \n",
    "\n"
   ]
  },
  {
   "cell_type": "markdown",
   "metadata": {},
   "source": [
    "# 8"
   ]
  },
  {
   "cell_type": "code",
   "execution_count": null,
   "metadata": {},
   "outputs": [
    {
     "name": "stdout",
     "output_type": "stream",
     "text": [
      "В 1 ряду число 49 является самым большим, адрес: 0\n",
      "В 1 ряду число 9 является самым маленьким, адрес: 1\n",
      "В 2 ряду число 48 является самым большим, адрес: 7\n",
      "В 2 ряду число 1 является самым маленьким, адрес: 8\n",
      "В 3 ряду число 46 является самым большим, адрес: 4\n",
      "В 3 ряду число 5 является самым маленьким, адрес: 5\n",
      "В 4 ряду число 50 является самым большим, адрес: 4\n",
      "В 4 ряду число 2 является самым маленьким, адрес: 7\n",
      "В 5 ряду число 39 является самым большим, адрес: 4\n",
      "В 5 ряду число 3 является самым маленьким, адрес: 7\n",
      "В 6 ряду число 48 является самым большим, адрес: 8\n",
      "В 6 ряду число 2 является самым маленьким, адрес: 4\n",
      "В 7 ряду число 45 является самым большим, адрес: 6\n",
      "В 7 ряду число 1 является самым маленьким, адрес: 5\n",
      "В 8 ряду число 49 является самым большим, адрес: 3\n",
      "В 8 ряду число 3 является самым маленьким, адрес: 8\n",
      "В 9 ряду число 50 является самым большим, адрес: 1\n",
      "В 9 ряду число 1 является самым маленьким, адрес: 2\n",
      "В 10 ряду число 49 является самым большим, адрес: 3\n",
      "В 10 ряду число 8 является самым маленьким, адрес: 4\n"
     ]
    },
    {
     "data": {
      "text/plain": [
       "[[49, 9, 39, 44, 33, 15, 47, 46, 23, 44],\n",
       " [27, 39, 36, 2, 43, 41, 29, 48, 1, 13],\n",
       " [40, 36, 41, 36, 46, 5, 46, 8, 28, 24],\n",
       " [46, 23, 41, 26, 50, 14, 38, 2, 48, 47],\n",
       " [13, 38, 33, 25, 39, 28, 28, 3, 13, 26],\n",
       " [3, 6, 27, 19, 2, 15, 44, 5, 48, 4],\n",
       " [34, 36, 44, 13, 3, 1, 45, 7, 24, 30],\n",
       " [28, 36, 16, 49, 21, 32, 9, 38, 3, 11],\n",
       " [33, 50, 1, 11, 31, 37, 12, 44, 13, 39],\n",
       " [16, 23, 15, 49, 8, 45, 11, 47, 13, 28]]"
      ]
     },
     "execution_count": 1,
     "metadata": {},
     "output_type": "execute_result"
    }
   ],
   "source": [
    "import random\n",
    "\n",
    "def matrix_ins(m, n):\n",
    "    matrix = []\n",
    "    x = 0\n",
    "    for i in range(m):\n",
    "        row = []\n",
    "        for j in range(n):\n",
    "            row.append(random.randint(1, 50))\n",
    "        x += 1\n",
    "        num_max = max(row)\n",
    "        num_min = min(row)\n",
    "        num_id_max = row.index(max(row))\n",
    "        num_id_min= row.index(min(row))\n",
    "        print(f\"В {x} ряду число {num_max} является самым большим, адрес: {num_id_max}\")\n",
    "        print(f\"В {x} ряду число {num_min} является самым маленьким, адрес: {num_id_min}\")\n",
    "        matrix.append(row)\n",
    "    return matrix\n",
    "\n",
    "matrix_ins(10,10)"
   ]
  },
  {
   "cell_type": "markdown",
   "metadata": {},
   "source": [
    "# 9"
   ]
  },
  {
   "cell_type": "code",
   "execution_count": 10,
   "metadata": {},
   "outputs": [
    {
     "name": "stdout",
     "output_type": "stream",
     "text": [
      "[28, 30, 35, 34, 41]\n",
      "168\n",
      "Сумма чисел ряда 1 равна 28, это 16.67% от общей суммы чисел\n",
      "Сумма чисел ряда 2 равна 30, это 17.86% от общей суммы чисел\n",
      "Сумма чисел ряда 3 равна 35, это 20.83% от общей суммы чисел\n",
      "Сумма чисел ряда 4 равна 34, это 20.24% от общей суммы чисел\n",
      "Сумма чисел ряда 5 равна 41, это 24.4% от общей суммы чисел\n",
      "Сумма чисел столбца 1 равна 37, это 22.02% от общей суммы чисел\n",
      "Сумма чисел столбца 2 равна 38, это 22.62% от общей суммы чисел\n",
      "Сумма чисел столбца 3 равна 23, это 13.69% от общей суммы чисел\n",
      "Сумма чисел столбца 4 равна 33, это 19.64% от общей суммы чисел\n",
      "Сумма чисел столбца 5 равна 37, это 22.02% от общей суммы чисел\n"
     ]
    },
    {
     "data": {
      "text/plain": [
       "[[5, 10, 6, 4, 3],\n",
       " [6, 9, 1, 8, 6],\n",
       " [7, 8, 2, 8, 10],\n",
       " [9, 1, 6, 8, 10],\n",
       " [10, 10, 8, 5, 8]]"
      ]
     },
     "execution_count": 10,
     "metadata": {},
     "output_type": "execute_result"
    }
   ],
   "source": [
    "import random\n",
    "\n",
    "def matrix_ins(m, n):\n",
    "    matrix = []\n",
    "    rows_sums = []\n",
    "    for i in range(m):\n",
    "        row = []\n",
    "        for j in range(n):\n",
    "            row.append(random.randint(1, 10))\n",
    "        row_sum = sum(row)\n",
    "        rows_sums.append(row_sum)\n",
    "        matrix.append(row)\n",
    "    print(rows_sums)\n",
    "    mat_sum = sum(rows_sums)\n",
    "    print(mat_sum)\n",
    "    x = 0\n",
    "    for r in rows_sums:\n",
    "        x += 1\n",
    "        print(f\"Сумма чисел ряда {x} равна {r}, это {round(r / mat_sum * 100, 2)}% от общей суммы чисел\")\n",
    "    col_sums = []\n",
    "    for col in range(n):\n",
    "        col_sum = sum(row[col] for row in matrix)        \n",
    "        print(f\"Сумма чисел столбца {col + 1} равна {col_sum}, это {round(col_sum / mat_sum * 100, 2)}% от общей суммы чисел\")\n",
    "    return matrix\n",
    "\n",
    "matrix_ins(5,5)"
   ]
  },
  {
   "cell_type": "markdown",
   "metadata": {},
   "source": [
    "# 10"
   ]
  },
  {
   "cell_type": "code",
   "execution_count": 33,
   "metadata": {},
   "outputs": [
    {
     "name": "stdout",
     "output_type": "stream",
     "text": [
      "[[18, 44, 45, 13, 44, 41, 50, 7, 38, 5], [29, 15, 14, 21, 18, 39, 43, 31, 12, 46], [4, 45, 17, 13, 38, 33, 34, 4, 21, 27], [17, 50, 36, 41, 14, 22, 20, 4, 33, 16], [17, 29, 15, 40, 25, 29, 6, 1, 11, 34], [12, 22, 29, 39, 20, 5, 24, 42, 8, 38], [35, 48, 2, 8, 16, 45, 4, 12, 47, 48], [34, 34, 25, 3, 34, 39, 9, 46, 16, 7], [37, 42, 17, 7, 44, 6, 14, 22, 3, 33], [45, 17, 21, 8, 24, 31, 26, 29, 19, 17]]\n",
      "[45, 14, 17, 36, 15, 29, 2, 25, 17, 21]\n"
     ]
    },
    {
     "data": {
      "text/plain": [
       "[[810, 1980, 2025, 585, 1980, 1845, 2250, 315, 1710, 225],\n",
       " [406, 210, 196, 294, 252, 546, 602, 434, 168, 644],\n",
       " [68, 765, 289, 221, 646, 561, 578, 68, 357, 459],\n",
       " [612, 1800, 1296, 1476, 504, 792, 720, 144, 1188, 576],\n",
       " [255, 435, 225, 600, 375, 435, 90, 15, 165, 510],\n",
       " [348, 638, 841, 1131, 580, 145, 696, 1218, 232, 1102],\n",
       " [70, 96, 4, 16, 32, 90, 8, 24, 94, 96],\n",
       " [850, 850, 625, 75, 850, 975, 225, 1150, 400, 175],\n",
       " [629, 714, 289, 119, 748, 102, 238, 374, 51, 561],\n",
       " [945, 357, 441, 168, 504, 651, 546, 609, 399, 357]]"
      ]
     },
     "execution_count": 33,
     "metadata": {},
     "output_type": "execute_result"
    }
   ],
   "source": [
    "import random\n",
    "\n",
    "def matrix(n, m, k):\n",
    "    matrix = [\n",
    "        [random.randint(1, 50) for _ in range(n)] \n",
    "        for _ in range(m)]\n",
    "    print(matrix)\n",
    "    k_col = [row[k] for row in matrix]\n",
    "    print(k_col)\n",
    "    for i in range(n):\n",
    "        for j in range(m):\n",
    "            matrix[i][j] *= k_col[i]\n",
    "    return matrix\n",
    "    \n",
    "matrix(10, 10, 2)\n"
   ]
  },
  {
   "cell_type": "markdown",
   "metadata": {},
   "source": [
    "# 11"
   ]
  },
  {
   "cell_type": "code",
   "execution_count": 24,
   "metadata": {},
   "outputs": [
    {
     "name": "stdout",
     "output_type": "stream",
     "text": [
      "[[5, 14, 34, 1, 17, 14, 35, 39, 32, 39], [46, 4, 43, 18, 25, 19, 20, 43, 3, 9], [30, 4, 21, 50, 31, 17, 5, 33, 2, 5], [45, 29, 34, 6, 46, 11, 24, 5, 9, 1], [17, 33, 23, 13, 6, 26, 9, 17, 19, 32], [33, 28, 35, 44, 23, 42, 35, 33, 40, 49], [45, 19, 12, 42, 50, 6, 10, 14, 27, 5], [42, 18, 21, 32, 33, 43, 23, 23, 29, 46], [16, 14, 17, 18, 48, 42, 43, 39, 46, 28], [15, 13, 17, 32, 4, 25, 34, 44, 48, 22]]\n",
      "[30, 4, 21, 50, 31, 17, 5, 33, 2, 5]\n"
     ]
    },
    {
     "data": {
      "text/plain": [
       "[[35, 18, 55, 51, 48, 31, 40, 72, 34, 44],\n",
       " [76, 8, 64, 68, 56, 36, 25, 76, 5, 14],\n",
       " [60, 8, 42, 100, 62, 34, 10, 66, 4, 10],\n",
       " [105, 37, 76, 106, 108, 45, 34, 71, 13, 11],\n",
       " [77, 41, 65, 113, 68, 60, 19, 83, 23, 42],\n",
       " [93, 36, 77, 144, 85, 76, 45, 99, 44, 59],\n",
       " [105, 27, 54, 142, 112, 40, 20, 80, 31, 15],\n",
       " [102, 26, 63, 132, 95, 77, 33, 89, 33, 56],\n",
       " [76, 22, 59, 118, 110, 76, 53, 105, 50, 38],\n",
       " [75, 21, 59, 132, 66, 59, 44, 110, 52, 32]]"
      ]
     },
     "execution_count": 24,
     "metadata": {},
     "output_type": "execute_result"
    }
   ],
   "source": [
    "import random\n",
    "\n",
    "def matrix(n, m, l):\n",
    "    matrix = [\n",
    "        [random.randint(1, 50) for _ in range(n)] \n",
    "        for _ in range(m)]\n",
    "    print(matrix)\n",
    "    l_row = matrix[l]\n",
    "    print(l_row)\n",
    "    for i in range(n):\n",
    "        for j in range(m):\n",
    "            matrix[i][j] += l_row[j]\n",
    "    return matrix\n",
    "    \n",
    "matrix(10, 10, 2)\n"
   ]
  },
  {
   "cell_type": "markdown",
   "metadata": {},
   "source": [
    "# 12"
   ]
  },
  {
   "cell_type": "code",
   "execution_count": null,
   "metadata": {},
   "outputs": [
    {
     "name": "stdout",
     "output_type": "stream",
     "text": [
      "[1, 10, 1, 4, 1, 1, 10, 4, 7, 1]\n",
      "[7, 3, 1, 5, 2, 7, 10, 5, 6, 8]\n",
      "[4, 7, 6, 4, 10, 9, 6, 8, 6, 5]\n",
      "[1, 10, 9, 5, 3, 10, 10, 4, 10, 2]\n",
      "[3, 8, 2, 4, 4, 5, 8, 7, 8, 6]\n",
      "[9, 9, 8, 9, 7, 7, 7, 5, 9, 10]\n",
      "[10, 6, 1, 2, 10, 2, 10, 9, 9, 5]\n",
      "[9, 9, 7, 6, 9, 3, 9, 6, 1, 2]\n",
      "[7, 1, 3, 10, 7, 10, 5, 3, 3, 6]\n",
      "[4, 4, 2, 2, 2, 8, 3, 6, 3, 5]\n"
     ]
    },
    {
     "ename": "UnboundLocalError",
     "evalue": "local variable 'col_f' referenced before assignment",
     "output_type": "error",
     "traceback": [
      "\u001b[1;31m---------------------------------------------------------------------------\u001b[0m",
      "\u001b[1;31mUnboundLocalError\u001b[0m                         Traceback (most recent call last)",
      "Cell \u001b[1;32mIn[175], line 25\u001b[0m\n\u001b[0;32m     22\u001b[0m          h_out\u001b[38;5;241m.\u001b[39mappend(i)\n\u001b[0;32m     23\u001b[0m     \u001b[38;5;28;01mreturn\u001b[39;00m h_in, h_out\n\u001b[1;32m---> 25\u001b[0m \u001b[43mmatrix\u001b[49m\u001b[43m(\u001b[49m\u001b[38;5;241;43m10\u001b[39;49m\u001b[43m,\u001b[49m\u001b[43m \u001b[49m\u001b[38;5;241;43m10\u001b[39;49m\u001b[43m,\u001b[49m\u001b[43m \u001b[49m\u001b[38;5;241;43m2\u001b[39;49m\u001b[43m)\u001b[49m\n",
      "Cell \u001b[1;32mIn[175], line 19\u001b[0m, in \u001b[0;36mmatrix\u001b[1;34m(n, m, h)\u001b[0m\n\u001b[0;32m     17\u001b[0m          \u001b[38;5;28;01mfor\u001b[39;00m i \u001b[38;5;129;01min\u001b[39;00m \u001b[38;5;28mrange\u001b[39m(m):\n\u001b[0;32m     18\u001b[0m              col_f \u001b[38;5;241m=\u001b[39m [row[i] \u001b[38;5;28;01mfor\u001b[39;00m row \u001b[38;5;129;01min\u001b[39;00m matrix]\n\u001b[1;32m---> 19\u001b[0m \u001b[38;5;28;01mif\u001b[39;00m h \u001b[38;5;129;01min\u001b[39;00m \u001b[43mcol_f\u001b[49m:\n\u001b[0;32m     20\u001b[0m      h_in\u001b[38;5;241m.\u001b[39mappend(i)\n\u001b[0;32m     21\u001b[0m \u001b[38;5;28;01melse\u001b[39;00m:\n",
      "\u001b[1;31mUnboundLocalError\u001b[0m: local variable 'col_f' referenced before assignment"
     ]
    }
   ],
   "source": [
    "import random\n",
    "\n",
    "def matrix(n, m, h):\n",
    "    h_in = []\n",
    "    h_out = []\n",
    "    \n",
    "    matrix = [\n",
    "        [random.randint(1, 10) for _ in range(n)] \n",
    "        for _ in range(m)]\n",
    "    for row in matrix:\n",
    "         print(row)\n",
    "    if m < n:\n",
    "        for i in range(m):\n",
    "            col_f = [row[i] for row in matrix]\n",
    "        else:\n",
    "             n, m = m, n\n",
    "             for i in range(m):\n",
    "                 col_f = [row[i] for row in matrix]\n",
    "    if h in col_f:\n",
    "         h_in.append(i)\n",
    "    else:\n",
    "         h_out.append(i)\n",
    "    return h_in, h_out\n",
    "    \n",
    "matrix(10, 10, 2)\n",
    "### meh ###"
   ]
  },
  {
   "cell_type": "markdown",
   "metadata": {},
   "source": [
    "# 13"
   ]
  },
  {
   "cell_type": "code",
   "execution_count": 170,
   "metadata": {},
   "outputs": [
    {
     "name": "stdout",
     "output_type": "stream",
     "text": [
      "[44, 16, 21, 35, 31, 0, 7, 0, 10, 21]\n",
      "[35, 22, 33, 4, 30, 40, 24, 37, 39, 4]\n",
      "[2, 40, 41, 35, 13, 39, 42, 19, 46, 50]\n",
      "[5, 4, 41, 45, 1, 29, 3, 38, 47, 42]\n",
      "[50, 12, 2, 38, 28, 26, 11, 8, 16, 31]\n",
      "[24, 26, 30, 33, 8, 46, 34, 45, 21, 38]\n",
      "[31, 34, 16, 9, 10, 3, 46, 1, 16, 35]\n",
      "[14, 18, 30, 13, 29, 17, 42, 48, 50, 45]\n",
      "[47, 44, 12, 44, 32, 12, 3, 28, 38, 31]\n",
      "[35, 50, 44, 10, 5, 15, 8, 33, 31, 33]\n"
     ]
    },
    {
     "data": {
      "text/plain": [
       "(391, 234)"
      ]
     },
     "execution_count": 170,
     "metadata": {},
     "output_type": "execute_result"
    }
   ],
   "source": [
    "def matrix(n, m):\n",
    "    matrix = [[random.randint(0, 50) for _ in range(n)] for _ in range(m)]\n",
    "    sum_first_diag = 0\n",
    "    sum_second_diag = 0\n",
    "\n",
    "    for row in matrix:\n",
    "        print(row)\n",
    "    for i in range(n):\n",
    "        sum_first_diag += matrix[i][i]\n",
    "        sum_second_diag += matrix[i][n - 1 - i]\n",
    "    return sum_first_diag, sum_second_diag\n",
    "matrix(10, 10)"
   ]
  },
  {
   "cell_type": "markdown",
   "metadata": {},
   "source": [
    "# 14"
   ]
  },
  {
   "cell_type": "code",
   "execution_count": 150,
   "metadata": {},
   "outputs": [
    {
     "name": "stdout",
     "output_type": "stream",
     "text": [
      "[0, 0, 1, 1, 1, 0, 1, 0, 0, 0]      4\n",
      "[1, 1, 0, 0, 0, 0, 0, 1, 1, 0]      4\n",
      "[0, 0, 0, 1, 0, 0, 1, 1, 0, 1]      4\n",
      "[1, 1, 1, 1, 1, 1, 1, 1, 0, 1]      9\n",
      "[0, 0, 0, 0, 0, 1, 1, 0, 1, 0]      3\n",
      "[0, 0, 1, 0, 1, 1, 0, 1, 0, 0]      4\n",
      "[0, 0, 0, 1, 0, 0, 0, 0, 1, 1]      3\n",
      "[1, 1, 1, 0, 0, 0, 1, 1, 0, 1]      6\n",
      "[0, 1, 1, 0, 1, 1, 0, 0, 0, 1]      5\n",
      "[1, 0, 1, 0, 1, 0, 0, 0, 1, 0]      4\n",
      "\n",
      "\n",
      "[0, 0, 1, 1, 1, 0, 1, 0, 0, 0, 0]\n",
      "[1, 1, 0, 0, 0, 0, 0, 1, 1, 0, 0]\n",
      "[0, 0, 0, 1, 0, 0, 1, 1, 0, 1, 0]\n",
      "[1, 1, 1, 1, 1, 1, 1, 1, 0, 1, 1]\n",
      "[0, 0, 0, 0, 0, 1, 1, 0, 1, 0, 1]\n",
      "[0, 0, 1, 0, 1, 1, 0, 1, 0, 0, 0]\n",
      "[0, 0, 0, 1, 0, 0, 0, 0, 1, 1, 1]\n",
      "[1, 1, 1, 0, 0, 0, 1, 1, 0, 1, 0]\n",
      "[0, 1, 1, 0, 1, 1, 0, 0, 0, 1, 1]\n",
      "[1, 0, 1, 0, 1, 0, 0, 0, 1, 0, 0]\n"
     ]
    }
   ],
   "source": [
    "import random\n",
    "\n",
    "def matrix(n, m):\n",
    "    matrix = [[random.randint(0, 1) for _ in range(n)] for _ in range(m)]\n",
    "    for row in matrix:\n",
    "        print(f\"{row}      {sum(row)}\")\n",
    "    for row in matrix:\n",
    "        if sum(row) %2 == 0:\n",
    "            row.append(0)\n",
    "        else:\n",
    "            row.append(1)\n",
    "    print(\"\\n\")\n",
    "    for row in matrix:\n",
    "        print(row)\n",
    "    \n",
    "matrix(10, 10)"
   ]
  }
 ],
 "metadata": {
  "kernelspec": {
   "display_name": "venv",
   "language": "python",
   "name": "python3"
  },
  "language_info": {
   "codemirror_mode": {
    "name": "ipython",
    "version": 3
   },
   "file_extension": ".py",
   "mimetype": "text/x-python",
   "name": "python",
   "nbconvert_exporter": "python",
   "pygments_lexer": "ipython3",
   "version": "3.9.6"
  }
 },
 "nbformat": 4,
 "nbformat_minor": 2
}
