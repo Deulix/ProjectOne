{
 "cells": [
  {
   "cell_type": "markdown",
   "metadata": {},
   "source": [
    "# 1 задание"
   ]
  },
  {
   "cell_type": "code",
   "execution_count": 10,
   "metadata": {},
   "outputs": [
    {
     "name": "stdout",
     "output_type": "stream",
     "text": [
      "1) Орёл\n",
      "2) Решка\n",
      "3) Решка\n",
      "4) Решка\n",
      "5) Орёл\n",
      "6) Орёл\n",
      "7) Решка\n",
      "8) Решка\n",
      "9) Орёл\n",
      "10) Решка\n",
      "11) Решка\n",
      "12) Решка\n",
      "13) Орёл\n",
      "14) Решка\n"
     ]
    }
   ],
   "source": [
    "import random\n",
    "\n",
    "count = int(input(\"Введите количество попыток: \"))\n",
    "i = 0\n",
    "while i < count:\n",
    "    i += 1\n",
    "    ans = random.randint(0,1)\n",
    "    print(str(i) + \") Орёл\") if ans == 1 else print(str(i) + \") Решка\")"
   ]
  },
  {
   "cell_type": "markdown",
   "metadata": {},
   "source": [
    "# 2 задание"
   ]
  },
  {
   "cell_type": "code",
   "execution_count": null,
   "metadata": {},
   "outputs": [
    {
     "name": "stdout",
     "output_type": "stream",
     "text": [
      "5\n",
      "2\n",
      "1\n",
      "3\n",
      "2\n"
     ]
    }
   ],
   "source": [
    "count = int(input(\"Введите количество попыток: \"))\n",
    "i = 0\n",
    "while i < count:\n",
    "    i += 1\n",
    "    print(random.randint(1, 6))"
   ]
  },
  {
   "cell_type": "markdown",
   "metadata": {},
   "source": [
    "# 3 задание"
   ]
  },
  {
   "cell_type": "code",
   "execution_count": null,
   "metadata": {},
   "outputs": [
    {
     "name": "stdout",
     "output_type": "stream",
     "text": [
      "rIMZYNUJjK\n"
     ]
    }
   ],
   "source": [
    "import random\n",
    "import string\n",
    "\n",
    "low = string.ascii_lowercase\n",
    "up = string.ascii_uppercase\n",
    "\n",
    "password_count = 0\n",
    "while password_count < 6:\n",
    "    password_count = int(input(\"Введите длину пароля (от 6 символов): \"))\n",
    "n = random.randint(1, password_count - 2)\n",
    "rd_low = random.choices(low, k= n)\n",
    "rd_up = random.choices(up, k= password_count - n)\n",
    "\n",
    "temp_pass = rd_low + rd_up\n",
    "random.shuffle(temp_pass)\n",
    "password = \"\".join(temp_pass)\n",
    "print(password)\n"
   ]
  },
  {
   "cell_type": "markdown",
   "metadata": {},
   "source": [
    "# 4 задание с преобразованием list[int, int] в list[str, str] через map"
   ]
  },
  {
   "cell_type": "code",
   "execution_count": null,
   "metadata": {},
   "outputs": [
    {
     "name": "stdout",
     "output_type": "stream",
     "text": [
      "36 19 6 27 2 28 41\n"
     ]
    }
   ],
   "source": [
    "import  random\n",
    "\n",
    "ticket = []\n",
    "nums = 7\n",
    "i = 0\n",
    "while i < nums:\n",
    "    i += 1\n",
    "    number = random.randint(1, 49)\n",
    "    while number not in ticket:\n",
    "        ticket.append(number)\n",
    "\n",
    "ticket = \" \".join(map(str, ticket))\n",
    "print(ticket)"
   ]
  },
  {
   "cell_type": "markdown",
   "metadata": {},
   "source": [
    "# 4 задание, метод попроще"
   ]
  },
  {
   "cell_type": "code",
   "execution_count": 234,
   "metadata": {},
   "outputs": [
    {
     "name": "stdout",
     "output_type": "stream",
     "text": [
      "35 35 37 14 20 9 45\n"
     ]
    }
   ],
   "source": [
    "import random\n",
    "\n",
    "ticket = []\n",
    "nums = 7\n",
    "i = 0\n",
    "\n",
    "while i < nums:\n",
    "    number = random.randint(1, 49)\n",
    "    if number not in ticket:\n",
    "        ticket.append(str(number))\n",
    "        i += 1\n",
    "\n",
    "\n",
    "ticket = \" \".join(ticket)\n",
    "print(ticket)"
   ]
  },
  {
   "cell_type": "markdown",
   "metadata": {},
   "source": [
    "# 5 задание"
   ]
  },
  {
   "cell_type": "code",
   "execution_count": 253,
   "metadata": {},
   "outputs": [
    {
     "name": "stdout",
     "output_type": "stream",
     "text": [
      "103.92.2.57\n"
     ]
    }
   ],
   "source": [
    "def generate_ip():\n",
    "    j = 4\n",
    "    i = 0\n",
    "    ip = []\n",
    "\n",
    "    while i < j:\n",
    "        ip.append(str(random.randint(0, 255)))\n",
    "        i += 1\n",
    "    return \".\".join(ip)\n",
    "\n",
    "print(generate_ip())"
   ]
  },
  {
   "cell_type": "markdown",
   "metadata": {},
   "source": [
    "# 6 задание"
   ]
  },
  {
   "cell_type": "code",
   "execution_count": 312,
   "metadata": {},
   "outputs": [
    {
     "name": "stdout",
     "output_type": "stream",
     "text": [
      "ZR71_89EM\n"
     ]
    }
   ],
   "source": [
    "import random\n",
    "import string\n",
    "\n",
    "def generate_index():\n",
    "    num1 = str(random.randint(0, 99))\n",
    "    num2 = str(random.randint(0, 99))\n",
    "    let = string.ascii_uppercase\n",
    "    \n",
    "    index = [random.choice(let), random.choice(let), num1, \"_\", num2, random.choice(let), random.choice(let)]\n",
    "    return \"\".join(index)\n",
    "\n",
    "print(generate_index())"
   ]
  },
  {
   "cell_type": "markdown",
   "metadata": {},
   "source": [
    "# 7 задание"
   ]
  },
  {
   "cell_type": "code",
   "execution_count": 416,
   "metadata": {},
   "outputs": [
    {
     "name": "stdout",
     "output_type": "stream",
     "text": [
      "[[3, 1, 2], [4, 6, 5], [8, 9, 7]]\n"
     ]
    }
   ],
   "source": [
    "import random\n",
    "\n",
    "A = [[1, 2, 3],\n",
    "     [4, 5, 6],\n",
    "     [7, 8, 9]]\n",
    "\n",
    "for i in A:\n",
    "    random.shuffle(i)\n",
    "\n",
    "print(A)"
   ]
  },
  {
   "cell_type": "markdown",
   "metadata": {},
   "source": [
    "# 8 задание"
   ]
  },
  {
   "cell_type": "code",
   "execution_count": 18,
   "metadata": {},
   "outputs": [
    {
     "name": "stdout",
     "output_type": "stream",
     "text": [
      "34 46 12 18 31 24 33\n",
      "19 7 39 28 28 13 39\n",
      "2 28 6 48 33 24 15\n",
      "39 33 22 47 7 4 15\n",
      "21 14 43 14 30 24 15\n",
      "34 41 35 23 24 19 29\n",
      "15 42 8 37 8 28 13\n",
      "9 38 45 36 47 4 5\n",
      "34 3 11 23 3 14 11\n",
      "28 8 4 44 36 26 21\n",
      "41 42 45 18 23 40 30\n",
      "37 28 47 8 21 37 24\n",
      "4 16 1 7 25 48 18\n",
      "6 44 15 9 23 44 37\n",
      "13 31 31 9 22 26 23\n",
      "11 34 46 14 30 34 18\n",
      "45 18 23 15 7 44 25\n",
      "39 27 41 35 3 17 42\n",
      "25 33 27 6 4 7 20\n",
      "34 11 3 23 31 15 36\n",
      "30 35 23 8 6 39 46\n",
      "38 34 29 7 2 48 32\n",
      "42 44 18 19 34 25 17\n",
      "37 21 2 33 9 18 27\n",
      "8 22 1 14 35 42 30\n",
      "13 37 8 38 37 25 20\n",
      "47 44 46 33 14 22 38\n",
      "29 15 49 17 6 36 13\n",
      "32 4 26 11 29 36 33\n",
      "19 30 3 4 39 42 45\n",
      "8 34 11 46 5 2 3\n",
      "28 30 29 19 16 15 22\n",
      "7 34 48 36 10 14 29\n",
      "49 4 49 15 40 6 33\n",
      "25 40 25 2 24 33 38\n",
      "8 43 45 24 2 41 33\n",
      "24 49 9 34 20 17 34\n",
      "20 46 31 34 7 20 14\n",
      "44 46 40 23 28 5 13\n",
      "28 9 29 22 40 45 4\n",
      "49 43 1 11 4 10 3\n",
      "23 3 16 3 33 40 16\n",
      "30 43 38 20 38 45 39\n",
      "33 29 12 41 48 27 31\n",
      "6 11 28 22 7 24 3\n",
      "41 11 24 12 12 29 46\n",
      "43 6 42 4 3 49 43\n",
      "31 29 39 35 47 25 39\n",
      "1 22 31 20 25 24 28\n",
      "20 20 16 37 43 17 11\n",
      "44 47 3 3 6 38 38\n",
      "28 26 9 1 38 16 29\n",
      "15 21 20 41 14 43 25\n",
      "11 3 45 22 17 22 39\n",
      "45 9 48 12 4 18 26\n",
      "49 45 8 29 14 34 32\n",
      "31 36 2 46 26 13 4\n",
      "33 46 13 29 43 36 37\n",
      "40 19 22 38 39 14 11\n",
      "29 35 42 32 24 23 15\n",
      "44 18 27 46 45 44 47\n",
      "21 14 28 26 41 14 48\n",
      "26 34 28 13 41 7 20\n",
      "24 27 42 21 4 43 36\n",
      "49 39 38 8 25 34 34\n",
      "35 47 13 14 14 32 26\n",
      "19 35 20 25 19 7 49\n",
      "19 5 21 13 3 7 34\n",
      "40 31 39 44 17 39 44\n",
      "30 45 39 25 28 26 44\n",
      "46 15 43 16 38 45 10\n",
      "13 5 15 30 26 8 14\n",
      "24 23 22 22 41 22 14\n",
      "1 25 24 48 35 34 6\n",
      "1 11 27 29 4 32 17\n",
      "33 4 30 3 8 44 9\n",
      "24 36 49 17 44 25 38\n",
      "15 46 30 25 42 21 33\n",
      "31 20 42 40 28 49 26\n",
      "21 19 49 9 39 8 12\n",
      "34 31 33 35 8 14 45\n",
      "32 28 35 25 10 29 4\n",
      "40 10 12 29 30 17 30\n",
      "47 49 7 38 6 43 3\n",
      "39 10 27 42 7 36 5\n",
      "29 6 16 9 20 18 5\n",
      "3 16 36 33 8 3 8\n",
      "47 17 9 12 12 20 20\n",
      "41 28 21 29 11 13 35\n",
      "17 45 25 6 15 13 2\n",
      "13 15 40 16 20 28 40\n",
      "38 35 17 31 30 5 13\n",
      "38 39 36 3 7 28 38\n",
      "37 13 34 28 17 40 9\n",
      "30 23 49 4 1 5 21\n",
      "13 28 23 46 48 48 21\n",
      "6 26 22 40 4 27 1\n",
      "48 6 35 41 40 30 20\n",
      "15 7 29 1 30 25 30\n",
      "1 33 18 34 33 8 8\n"
     ]
    }
   ],
   "source": [
    "import random\n",
    "\n",
    "nums = 7\n",
    "a = 0\n",
    "b = 100\n",
    "blacklist = []\n",
    "\n",
    "while a < b:\n",
    "    ticket = []\n",
    "    i = 0\n",
    "\n",
    "    while i < nums:\n",
    "        number = random.randint(1, 49)\n",
    "        if number not in ticket:\n",
    "            ticket.append(str(number))\n",
    "            i += 1\n",
    "\n",
    "    ticket = \" \".join(ticket)\n",
    "    if ticket not in blacklist:\n",
    "        print(ticket)\n",
    "        blacklist.append(ticket)\n",
    "        a += 1"
   ]
  },
  {
   "cell_type": "markdown",
   "metadata": {},
   "source": [
    "# 9 задание"
   ]
  },
  {
   "cell_type": "code",
   "execution_count": 27,
   "metadata": {},
   "outputs": [
    {
     "name": "stdout",
     "output_type": "stream",
     "text": [
      "['г', 'р', 'о', 'о', 'н', 'д', 'к']\n"
     ]
    }
   ],
   "source": [
    "a = \"корндог\"\n",
    "b = list(a)\n",
    "random.shuffle(b)\n",
    "print(b)"
   ]
  },
  {
   "cell_type": "code",
   "execution_count": 44,
   "metadata": {},
   "outputs": [
    {
     "name": "stdout",
     "output_type": "stream",
     "text": [
      "екчволе\n"
     ]
    }
   ],
   "source": [
    "import random\n",
    "\n",
    "a = input(\"Введите слово: \")\n",
    "\n",
    "def shuffle(x):\n",
    "    y = list(x)\n",
    "    random.shuffle(y)\n",
    "    return \"\".join(y)\n",
    "\n",
    "print(shuffle(a))"
   ]
  },
  {
   "cell_type": "markdown",
   "metadata": {},
   "source": [
    "# 10 задание"
   ]
  },
  {
   "cell_type": "code",
   "execution_count": 17,
   "metadata": {},
   "outputs": [
    {
     "data": {
      "text/plain": [
       "[['3  ', '7  ', '50 ', '28 ', '66 '],\n",
       " ['38 ', '14 ', '67 ', '9  ', '3  '],\n",
       " ['32 ', '55 ', '0  ', '74 ', '24 '],\n",
       " ['37 ', '64 ', '12 ', '57 ', '66 '],\n",
       " ['19 ', '40 ', '54 ', '37 ', '42 ']]"
      ]
     },
     "execution_count": 17,
     "metadata": {},
     "output_type": "execute_result"
    }
   ],
   "source": [
    "import random\n",
    "\n",
    "i = 5\n",
    "j = 5\n",
    "ban = []\n",
    "A = []\n",
    "x = 0\n",
    "\n",
    "for a in range(i):\n",
    "    row = []\n",
    "    for b in range(j):\n",
    "        if x not in ban:\n",
    "            x = str(random.randint(1, 75)).ljust(3)\n",
    "            row.append(x)\n",
    "            ban.append(x)\n",
    "            x = 0\n",
    "    A.append(row)\n",
    "\n",
    "A[2][2] = \"0\".ljust(3)\n",
    "\n",
    "A"
   ]
  },
  {
   "cell_type": "markdown",
   "metadata": {},
   "source": [
    "# 11 задание"
   ]
  },
  {
   "cell_type": "code",
   "execution_count": 2,
   "metadata": {},
   "outputs": [
    {
     "name": "stdout",
     "output_type": "stream",
     "text": [
      "Евгений Иванов\n",
      "Мирослава Данилова\n",
      "Михаил Ильин\n",
      "София Беляева\n",
      "Арина Сазонова\n"
     ]
    }
   ],
   "source": [
    "import random\n",
    "\n",
    "studs = [\"Матвей Александров\", \"Варвара Александрова\", \"Дарья Александрова\", \"Максим Баранов\", \"Григорий Барсуков\",\n",
    "    \"Вероника Белова\", \"Леонид Беляев\", \"София Беляева\", \"Таисия Боброва\", \"Роман Булгаков\",\n",
    "    \"Арина Васильева\", \"Василиса Вешнякова\", \"Злата Волкова\", \"Алиса Воронина\", \"Алиса Глушкова\",\n",
    "    \"Герман Горбунов\", \"Дарья Горохова\", \"Ольга Григорьева\", \"Ирина Григорьева\", \"Арина Гусева\",\n",
    "    \"Максим Давыдов\", \"Мирослава Данилова\", \"Максим Демин\", \"Виктория Дмитриева\", \"Варвара Дружинина\",\n",
    "    \"Иван Дубинин\", \"Савелий Егоров\", \"Милана Егорова\", \"Николай Ершов\", \"Даниил Иванов\",\n",
    "    \"Матвей Иванов\", \"Евгений Иванов\", \"Варвара Иванова\", \"Илья Игнатьев\", \"Михаил Ильин\",\n",
    "    \"Екатерина Карасева\", \"Елизавета Карпова\", \"Виктор Козлов\", \"Анна Козлова\", \"Варвара Колесникова\",\n",
    "    \"Александр Коновалов\", \"Иван Кононов\", \"Мирослава Константинова\", \"Александра Корнева\", \"Ева Королькова\",\n",
    "    \"Константин Кочетов\", \"Елена Круглова\", \"Дарья Крылова\", \"Артём Кузнецов\", \"Алексей Кузьмин\",\n",
    "    \"Фёдор Куприянов\", \"Максим Леонтьев\", \"Екатерина Лукьянова\", \"Арсений Майоров\", \"София Маслова\",\n",
    "    \"Фёдор Матвеев\", \"Александра Мещерякова\", \"Александр Назаров\", \"Алиса Наумова\", \"Михаил Некрасов\",\n",
    "    \"Александра Николаева\", \"Егор Никольский\", \"Андрей Орехов\", \"Василиса Орлова\", \"Владислав Павлов\",\n",
    "    \"Илья Панов\", \"Евгения Петрова\", \"Мария Покровская\", \"Никита Попов\", \"Михаил Потапов\",\n",
    "    \"Анна Потапова\", \"Милана Прохорова\", \"Александр Романов\", \"Лидия Румянцева\", \"Ярослав Рыбаков\",\n",
    "    \"Милана Рыжова\", \"Полина Савина\", \"Тимофей Сазонов\", \"Арина Сазонова\", \"Сергей Семенов\",\n",
    "    \"Олеся Сергеева\", \"Анастасия Скворцова\", \"Даниил Смирнов\", \"Ксения Смирнова\", \"София Смирнова\",\n",
    "    \"Ева Соболева\", \"Алёна Соловьева\", \"Александра Сомова\", \"Герман Суханов\", \"Вячеслав Сухарев\",\n",
    "    \"Иван Уткин\", \"Герман Ушаков\", \"Арсений Федоров\", \"Артём Федоров\", \"Михаил Федоров\",\n",
    "    \"Алиса Федорова\", \"Илья Филиппов\", \"Александр Филиппов\", \"Дмитрий Фролов\", \"Тимур Чернышев\"]\n",
    "\n",
    "ban = []\n",
    "new_list = []\n",
    "n = int(input(\"Введите количество учеников, кратное 2 (до 100 человек): \"))\n",
    "random.shuffle(studs)\n",
    "           \n",
    "if n % 2 != 0:\n",
    "    print(\"Нечётное количество учеников, кто-то останется без друга\")\n",
    "    exit()\n",
    "\n",
    "for i in range(int(n / 2)):\n",
    "    if i not in ban:\n",
    "        i = studs.pop()\n",
    "        new_list.append(i)\n",
    "\n",
    "for x in new_list:\n",
    "            print(x)  \n"
   ]
  },
  {
   "cell_type": "code",
   "execution_count": 19,
   "metadata": {},
   "outputs": [
    {
     "name": "stdout",
     "output_type": "stream",
     "text": [
      "Нечётное количество учеников! \n",
      "Кто-то останется без друга \n",
      "\n",
      "Нечётное количество учеников! \n",
      "Кто-то останется без друга \n",
      "\n",
      "Александр Назаров - Полина Савина\n",
      "Анастасия Скворцова - Максим Демин\n",
      "Василиса Вешнякова - Фёдор Матвеев\n",
      "Даниил Смирнов - Михаил Федоров\n",
      "Михаил Некрасов - София Маслова\n",
      "Арина Сазонова - Ярослав Рыбаков\n",
      "Вероника Белова - Максим Давыдов\n",
      "Милана Егорова - Ксения Смирнова\n",
      "Екатерина Лукьянова - Екатерина Карасева\n",
      "Арина Гусева - Григорий Барсуков\n",
      "Алиса Глушкова - Фёдор Куприянов\n",
      "Варвара Дружинина - Матвей Александров\n",
      "Мария Покровская - Алексей Кузьмин\n",
      "Елена Круглова - Александра Корнева\n"
     ]
    }
   ],
   "source": [
    "import random\n",
    "\n",
    "studs = [\"Матвей Александров\", \"Варвара Александрова\", \"Дарья Александрова\", \"Максим Баранов\", \"Григорий Барсуков\",\n",
    "    \"Вероника Белова\", \"Леонид Беляев\", \"София Беляева\", \"Таисия Боброва\", \"Роман Булгаков\",\n",
    "    \"Арина Васильева\", \"Василиса Вешнякова\", \"Злата Волкова\", \"Алиса Воронина\", \"Алиса Глушкова\",\n",
    "    \"Герман Горбунов\", \"Дарья Горохова\", \"Ольга Григорьева\", \"Ирина Григорьева\", \"Арина Гусева\",\n",
    "    \"Максим Давыдов\", \"Мирослава Данилова\", \"Максим Демин\", \"Виктория Дмитриева\", \"Варвара Дружинина\",\n",
    "    \"Иван Дубинин\", \"Савелий Егоров\", \"Милана Егорова\", \"Николай Ершов\", \"Даниил Иванов\",\n",
    "    \"Матвей Иванов\", \"Евгений Иванов\", \"Варвара Иванова\", \"Илья Игнатьев\", \"Михаил Ильин\",\n",
    "    \"Екатерина Карасева\", \"Елизавета Карпова\", \"Виктор Козлов\", \"Анна Козлова\", \"Варвара Колесникова\",\n",
    "    \"Александр Коновалов\", \"Иван Кононов\", \"Мирослава Константинова\", \"Александра Корнева\", \"Ева Королькова\",\n",
    "    \"Константин Кочетов\", \"Елена Круглова\", \"Дарья Крылова\", \"Артём Кузнецов\", \"Алексей Кузьмин\",\n",
    "    \"Фёдор Куприянов\", \"Максим Леонтьев\", \"Екатерина Лукьянова\", \"Арсений Майоров\", \"София Маслова\",\n",
    "    \"Фёдор Матвеев\", \"Александра Мещерякова\", \"Александр Назаров\", \"Алиса Наумова\", \"Михаил Некрасов\",\n",
    "    \"Александра Николаева\", \"Егор Никольский\", \"Андрей Орехов\", \"Василиса Орлова\", \"Владислав Павлов\",\n",
    "    \"Илья Панов\", \"Евгения Петрова\", \"Мария Покровская\", \"Никита Попов\", \"Михаил Потапов\",\n",
    "    \"Анна Потапова\", \"Милана Прохорова\", \"Александр Романов\", \"Лидия Румянцева\", \"Ярослав Рыбаков\",\n",
    "    \"Милана Рыжова\", \"Полина Савина\", \"Тимофей Сазонов\", \"Арина Сазонова\", \"Сергей Семенов\",\n",
    "    \"Олеся Сергеева\", \"Анастасия Скворцова\", \"Даниил Смирнов\", \"Ксения Смирнова\", \"София Смирнова\",\n",
    "    \"Ева Соболева\", \"Алёна Соловьева\", \"Александра Сомова\", \"Герман Суханов\", \"Вячеслав Сухарев\",\n",
    "    \"Иван Уткин\", \"Герман Ушаков\", \"Арсений Федоров\", \"Артём Федоров\", \"Михаил Федоров\",\n",
    "    \"Алиса Федорова\", \"Илья Филиппов\", \"Александр Филиппов\", \"Дмитрий Фролов\", \"Тимур Чернышев\"]\n",
    "\n",
    "random.shuffle(studs)\n",
    "new_list = []\n",
    "n = int(input(\"Введите количество учеников, кратное 2 (до 100 человек): \"))\n",
    "\n",
    "while n > 100:\n",
    "    n = int(input(\"Введите количество учеников, кратное 2 (до 100 человек): \"))\n",
    "\n",
    "while n % 2 != 0:\n",
    "    print(\"Нечётное количество учеников! \\nКто-то останется без друга \\n\")\n",
    "    n = int(input(\"Введите количество учеников, кратное 2 (до 100 человек): \"))\n",
    "\n",
    "else:\n",
    "    for i in range(int(n / 2)):\n",
    "            i = studs.pop()\n",
    "            j = studs.pop()\n",
    "            pair = [i, j]\n",
    "            new_list.append(pair)\n",
    "for x in new_list:\n",
    "    print(x[0] + \" - \" + x[1])\n",
    "                    \n"
   ]
  },
  {
   "cell_type": "markdown",
   "metadata": {},
   "source": [
    "# 12 задание"
   ]
  },
  {
   "cell_type": "code",
   "execution_count": null,
   "metadata": {},
   "outputs": [
    {
     "data": {
      "text/plain": [
       "['tRkwjAvJ7UZV',\n",
       " 'xsvs9UKwe2nh',\n",
       " 'yRSvnsWZbAME',\n",
       " 'S6fjCzgPcJcM',\n",
       " '857wkHUmyH3K']"
      ]
     },
     "execution_count": 95,
     "metadata": {},
     "output_type": "execute_result"
    }
   ],
   "source": [
    "import string\n",
    "import random\n",
    "\n",
    "def pass_gen(n, m):\n",
    "    passwords = []\n",
    "    if m < 10:\n",
    "        return \"Пароль должен содержать минимум 10 символов!\"\n",
    "        exit()\n",
    "    else:\n",
    "        up = string.ascii_uppercase\n",
    "        low = string.ascii_lowercase\n",
    "        nums = string.digits\n",
    "        up = up.replace(\"I\", \"\")\n",
    "        up = up.replace(\"O\", \"\")\n",
    "        low = low.replace(\"l\", \"\")\n",
    "        low = low.replace(\"o\", \"\")\n",
    "        nums = nums.replace(\"1\", \"\")\n",
    "        nums = nums.replace(\"0\", \"\")\n",
    "        all_letters = up + low + nums\n",
    "        j = 0\n",
    "        \n",
    "        while j < n: \n",
    "            j += 1\n",
    "            password = random.choices(all_letters, k= m)\n",
    "            random.shuffle(password)\n",
    "            password = \"\".join(password)\n",
    "            passwords.append(password)\n",
    "    \n",
    "    return passwords\n",
    "            \n",
    "        \n",
    "pass_gen(5, 12)"
   ]
  },
  {
   "cell_type": "markdown",
   "metadata": {},
   "source": [
    "# 13 задание"
   ]
  },
  {
   "cell_type": "code",
   "execution_count": 17,
   "metadata": {},
   "outputs": [
    {
     "data": {
      "text/plain": [
       "['rkxC69MqEXf5',\n",
       " 'S73FctERBqr3',\n",
       " 'xZ27ZFjUPwfh',\n",
       " 'zzEun6B9Z8Zf',\n",
       " 'A8u99qRbGdaE']"
      ]
     },
     "execution_count": 17,
     "metadata": {},
     "output_type": "execute_result"
    }
   ],
   "source": [
    "import string\n",
    "import random\n",
    "\n",
    "def pass_gen(n, m):\n",
    "    passwords = []\n",
    "    if m < 10:\n",
    "        return \"Пароль должен содержать минимум 10 символов!\"\n",
    "        exit()\n",
    "    else:\n",
    "        up = string.ascii_uppercase\n",
    "        low = string.ascii_lowercase\n",
    "        nums = string.digits\n",
    "        up = up.replace(\"I\", \"\")\n",
    "        up = up.replace(\"O\", \"\")\n",
    "        low = low.replace(\"l\", \"\")\n",
    "        low = low.replace(\"o\", \"\")\n",
    "        nums = nums.replace(\"1\", \"\")\n",
    "        nums = nums.replace(\"0\", \"\")\n",
    "        all_letters = up + low + nums\n",
    "        j = 0\n",
    "        \n",
    "        while j < n: \n",
    "            j += 1\n",
    "            i = random.randint(1, m // 4)\n",
    "            x = random.randint(1, m // 4)    \n",
    "            y = random.randint(1, m // 4) \n",
    "            password = random.choices(up, k= i) + random.choices(low, k= x) + random.choices(nums, k = y) + random.choices(all_letters, k = m - i - x - y)\n",
    "            random.shuffle(password)\n",
    "            password = \"\".join(password)\n",
    "            passwords.append(password)\n",
    "    \n",
    "    return passwords\n",
    "            \n",
    "        \n",
    "pass_gen(5, 12)"
   ]
  }
 ],
 "metadata": {
  "kernelspec": {
   "display_name": "venv",
   "language": "python",
   "name": "python3"
  },
  "language_info": {
   "codemirror_mode": {
    "name": "ipython",
    "version": 3
   },
   "file_extension": ".py",
   "mimetype": "text/x-python",
   "name": "python",
   "nbconvert_exporter": "python",
   "pygments_lexer": "ipython3",
   "version": "3.9.6"
  }
 },
 "nbformat": 4,
 "nbformat_minor": 2
}
