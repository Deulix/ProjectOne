{
 "cells": [
  {
   "cell_type": "code",
   "execution_count": null,
   "metadata": {},
   "outputs": [],
   "source": [
    "from math import pow, sqrt\n",
    "a = int(input(\"Введите число a: \"))\n",
    "b = int(input(\"Введите число b: \"))\n",
    "\n",
    "y = pow(a, 2) / 3 + (pow(a, 2) + 4) / b + (sqrt(pow(a, 2) + 4)) / 4 + (sqrt(pow(pow(a, 2) + 4, 3))) / 4\n",
    "print(y)\n"
   ]
  },
  {
   "cell_type": "code",
   "execution_count": null,
   "metadata": {},
   "outputs": [
    {
     "data": {
      "text/plain": [
       "0.4931505902785393"
      ]
     },
     "execution_count": 1,
     "metadata": {},
     "output_type": "execute_result"
    }
   ],
   "source": [
    "from math import cos, sin\n",
    "\n",
    "x = float(input(\"Введите число x: \"))\n",
    "y = cos(x) + sin(x)\n",
    "y"
   ]
  },
  {
   "cell_type": "code",
   "execution_count": 5,
   "metadata": {},
   "outputs": [
    {
     "data": {
      "text/plain": [
       "0.7646966999468835"
      ]
     },
     "execution_count": 5,
     "metadata": {},
     "output_type": "execute_result"
    }
   ],
   "source": [
    "from math import pow, sqrt\n",
    "x = float(input(\"Введите число x: \"))\n",
    "y = pow(pow(cos(pow(x, 2)), 2) + pow(sin(2 * x - 1), 2), 1 / 3)\n",
    "y"
   ]
  },
  {
   "cell_type": "code",
   "execution_count": 6,
   "metadata": {},
   "outputs": [
    {
     "data": {
      "text/plain": [
       "26.219196672529133"
      ]
     },
     "execution_count": 6,
     "metadata": {},
     "output_type": "execute_result"
    }
   ],
   "source": [
    "from math import pow, sqrt\n",
    "x = float(input(\"Введите число x: \"))\n",
    "y = 5 * x + 3 * pow(x, 2) * sqrt(1 + pow(sin(x), 2))\n",
    "y"
   ]
  },
  {
   "cell_type": "code",
   "execution_count": 10,
   "metadata": {},
   "outputs": [
    {
     "name": "stdout",
     "output_type": "stream",
     "text": [
      "Сумма займа: 151515151.0, \n",
      "Годовая процентная ставка: 22.0, \n",
      "Количество месяцев кредита: 12.0\n",
      "Ежемесячный платёж составит: 277778814.67\n"
     ]
    }
   ],
   "source": [
    "s = float(input(\"Введите сумму займа: \"))\n",
    "i = float(input(\"Введите годовую процентную ставку: \"))\n",
    "n = float(input(\"Количество месяцев кредита: \"))\n",
    "p = i / 12\n",
    "print(f\"\"\"Сумма займа: {s}, \n",
    "Годовая процентная ставка: {i}, \n",
    "Количество месяцев кредита: {n}\"\"\")\n",
    "m = s * p * pow(1 + p, n) / (pow(1 + p, n) - 1)\n",
    "print(f\"Ежемесячный платёж составит: {round(m, 2)}\")"
   ]
  },
  {
   "cell_type": "code",
   "execution_count": 15,
   "metadata": {},
   "outputs": [
    {
     "name": "stdout",
     "output_type": "stream",
     "text": [
      "Длина года на первой планете равна 15.707963267948964, на второй планете 0.4712388980384689\n",
      "Разность длины года 15.236724369910496, длиннее год на первой планете\n"
     ]
    }
   ],
   "source": [
    "from math import pi\n",
    "\n",
    "\n",
    "r1 = float(input(\"Введите радиус первой планеты (млн км): \"))\n",
    "v1 = float(input(\"Введите орбитальную скорость первой планеты (км/ч): \"))\n",
    "r2 = float(input(\"Введите радиус второй планеты (млн км): \"))\n",
    "v2 = float(input(\"Введите орбитальную скорость второй планеты (км/ч): \"))\n",
    "l1 = 2 * r1  * pi / v1\n",
    "l2 = 2 * r2  * pi / v2\n",
    "print(f\"Длина года на первой планете равна {l1}, на второй планете {l2}\")\n",
    "if l2 - l1 > 0:\n",
    "    print(f\"Разность длины года {l2 - l1}, длиннее год на второй планете\")\n",
    "elif l2 - l1 < 0:\n",
    "    print(f\"Разность длины года {l1 - l2}, длиннее год на первой планете\")\n",
    "else:\n",
    "    print(\"Разницы длины года у планет нет\")\n",
    "\n"
   ]
  }
 ],
 "metadata": {
  "kernelspec": {
   "display_name": "venv",
   "language": "python",
   "name": "python3"
  },
  "language_info": {
   "codemirror_mode": {
    "name": "ipython",
    "version": 3
   },
   "file_extension": ".py",
   "mimetype": "text/x-python",
   "name": "python",
   "nbconvert_exporter": "python",
   "pygments_lexer": "ipython3",
   "version": "3.9.6"
  }
 },
 "nbformat": 4,
 "nbformat_minor": 2
}
