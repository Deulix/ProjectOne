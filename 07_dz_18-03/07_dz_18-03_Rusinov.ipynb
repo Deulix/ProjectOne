{
 "cells": [
  {
   "cell_type": "markdown",
   "metadata": {},
   "source": [
    "# 1"
   ]
  },
  {
   "cell_type": "code",
   "execution_count": 17,
   "metadata": {},
   "outputs": [
    {
     "name": "stdout",
     "output_type": "stream",
     "text": [
      "[0, 1, 2, 3, 4, 5, 6, 7, 8, 9, 10]\n",
      "['0', '1', '2', '3', '4', '5', '6', '7', '8', '9', '10']\n"
     ]
    }
   ],
   "source": [
    "a = [i for i in range(11)]\n",
    "print(a)\n",
    "res = list(map(str, a))\n",
    "print(res)"
   ]
  },
  {
   "cell_type": "markdown",
   "metadata": {},
   "source": [
    "# 2"
   ]
  },
  {
   "cell_type": "code",
   "execution_count": 1,
   "metadata": {},
   "outputs": [
    {
     "name": "stdout",
     "output_type": "stream",
     "text": [
      "[-10, -9, -8, -7, -6, -5, -4, -3, -2, -1, 0, 1, 2, 3, 4, 5, 6, 7, 8, 9, 10]\n",
      "[1, 2, 3, 4, 5, 6, 7, 8, 9, 10]\n"
     ]
    }
   ],
   "source": [
    "a = [i for i in range(-10, 11)]\n",
    "print(a)\n",
    "def func(x):\n",
    "    return x > 0\n",
    "\n",
    "print(list(filter(func, a)))\n"
   ]
  },
  {
   "cell_type": "markdown",
   "metadata": {},
   "source": [
    "# 3"
   ]
  },
  {
   "cell_type": "code",
   "execution_count": 16,
   "metadata": {},
   "outputs": [
    {
     "data": {
      "text/plain": [
       "['aboba', 'salas', '12321', 'a']"
      ]
     },
     "execution_count": 16,
     "metadata": {},
     "output_type": "execute_result"
    }
   ],
   "source": [
    "a = [\"aboba\", \"salas\", \"12345\", \"12321\", \"a\", \"ipynb\"]\n",
    "def is_palindrom(word):\n",
    "    return word == word[::-1]\n",
    "\n",
    "list(filter(is_palindrom, a))"
   ]
  },
  {
   "cell_type": "markdown",
   "metadata": {},
   "source": [
    "# 4"
   ]
  },
  {
   "cell_type": "code",
   "execution_count": 30,
   "metadata": {},
   "outputs": [
    {
     "name": "stdout",
     "output_type": "stream",
     "text": [
      "fucntion start\n",
      "function middle\n",
      "function end\n"
     ]
    },
    {
     "data": {
      "text/plain": [
       "'function time: 4.532 seconds'"
      ]
     },
     "execution_count": 30,
     "metadata": {},
     "output_type": "execute_result"
    }
   ],
   "source": [
    "import time\n",
    "\n",
    "def decorator_time_count(func):\n",
    "    def wrapper(*args, **kwargs):\n",
    "        start = time.time()\n",
    "        func(*args, **kwargs)\n",
    "        end = time.time()\n",
    "        return f\"function time: {(end - start):.3f} seconds\"\n",
    "    return wrapper\n",
    "\n",
    "@decorator_time_count\n",
    "def test():\n",
    "    print(\"fucntion start\")\n",
    "    time.sleep(1)\n",
    "    print(\"function middle\")\n",
    "    time.sleep(2)\n",
    "    print(\"function end\")\n",
    "    time.sleep(1.5)\n",
    "\n",
    "test()"
   ]
  },
  {
   "cell_type": "markdown",
   "metadata": {},
   "source": [
    "# 5"
   ]
  },
  {
   "cell_type": "code",
   "execution_count": 38,
   "metadata": {},
   "outputs": [
    {
     "data": {
      "text/plain": [
       "55.25"
      ]
     },
     "execution_count": 38,
     "metadata": {},
     "output_type": "execute_result"
    }
   ],
   "source": [
    "rooms = [\n",
    "{\"name_kitchen\": \"Kitchen\", \"length\": 5, \"width\": 4},\n",
    "{\"name_master_bedroom\": \"Master bedroom\", \"length\": 5.5, \"width\": 4.5},\n",
    "{\"name_wc\": \"Closet\", \"length\": 1.5, \"width\": 1},\n",
    "{\"name_balcony\": \"Balcony\", \"length\": 6, \"width\": 1.5},\n",
    "]\n",
    "\n",
    "def meters(rooms):\n",
    "    return [room[\"length\"] * room[\"width\"] for room in rooms]\n",
    "\n",
    "def all_meters(list):\n",
    "    return sum(list)\n",
    "    \n",
    "all_meters(meters(rooms))"
   ]
  }
 ],
 "metadata": {
  "kernelspec": {
   "display_name": "venv",
   "language": "python",
   "name": "python3"
  },
  "language_info": {
   "codemirror_mode": {
    "name": "ipython",
    "version": 3
   },
   "file_extension": ".py",
   "mimetype": "text/x-python",
   "name": "python",
   "nbconvert_exporter": "python",
   "pygments_lexer": "ipython3",
   "version": "3.9.6"
  }
 },
 "nbformat": 4,
 "nbformat_minor": 2
}
