{
 "cells": [
  {
   "cell_type": "code",
   "execution_count": null,
   "metadata": {},
   "outputs": [],
   "source": [
    "from genericpath import isfile\n",
    "import os\n",
    "\n",
    "print(os.name)\n",
    "path = os.path.join(os.getcwd(),\"dz\")\n",
    "print(path)\n",
    "list_file = os.listdir()\n",
    "for file in list_file:\n",
    "    if isfile(file):\n",
    "        ext = (os.path.splitext(file)[1])[1:]\n",
    "        print(file,\"===\", ext)\n",
    "        if not os.path.exists(ext):\n",
    "            try:\n",
    "                file_path = os.path.join(path, file)\n",
    "                ext_dir_path = os.path.join(path, ext)\n",
    "                os.mkdir(ext_dir_path)\n",
    "            except FileExistsError:\n",
    "                pass\n",
    "            except Exception as e:\n",
    "                print(\"Unknown error\", e)\n",
    "        try:\n",
    "            os.replace(file_path, ext_dir_path)\n",
    "        except PermissionError:\n",
    "            raise"
   ]
  },
  {
   "cell_type": "code",
   "execution_count": null,
   "metadata": {},
   "outputs": [
    {
     "data": {
      "text/plain": [
       "'Подсудимая Эверт-Колокольцева Елизавета Александровна\\nв судебном заседании вину инкриминируемого\\nправонарушения признала в полном объёме и суду показала,\\nчто 14 сентября 1876 года, будучи в состоянии алкогольного\\nопьянения от безысходности, в связи с состоянием здоровья\\nпозвонила со своего стационарного телефона в полицию,\\nсообщив о том, что у неё в квартире якобы заложена бомба.\\nПосле чего приехали сотрудники полиции, скорая\\nи пожарные, которым она сообщила, что бомба — это она.'"
      ]
     },
     "execution_count": 2,
     "metadata": {},
     "output_type": "execute_result"
    }
   ],
   "source": [
    "n = \"Эверт-Колокольцева Елизавета Александровна\"\n",
    "\n",
    "with open(\"file.txt\", \"w\", encoding=\"utf-8\") as f:\n",
    "    f.write(f\"\"\"Подсудимая {n}\n",
    "в судебном заседании вину инкриминируемого\n",
    "правонарушения признала в полном объёме и суду показала,\n",
    "что 14 сентября 1876 года, будучи в состоянии алкогольного\n",
    "опьянения от безысходности, в связи с состоянием здоровья\n",
    "позвонила со своего стационарного телефона в полицию,\n",
    "сообщив о том, что у неё в квартире якобы заложена бомба.\n",
    "После чего приехали сотрудники полиции, скорая\n",
    "и пожарные, которым она сообщила, что бомба — это она.\"\"\")\n",
    "\n"
   ]
  },
  {
   "cell_type": "code",
   "execution_count": null,
   "metadata": {},
   "outputs": [
    {
     "ename": "UnsupportedOperation",
     "evalue": "not readable",
     "output_type": "error",
     "traceback": [
      "\u001b[1;31m---------------------------------------------------------------------------\u001b[0m",
      "\u001b[1;31mUnsupportedOperation\u001b[0m                      Traceback (most recent call last)",
      "Cell \u001b[1;32mIn[46], line 12\u001b[0m\n\u001b[0;32m     10\u001b[0m \u001b[38;5;28;01mfor\u001b[39;00m _ \u001b[38;5;129;01min\u001b[39;00m f:\n\u001b[0;32m     11\u001b[0m     f2\u001b[38;5;241m.\u001b[39mwrite(_)\n\u001b[1;32m---> 12\u001b[0m \u001b[38;5;28;43mprint\u001b[39;49m\u001b[43m(\u001b[49m\u001b[38;5;241;43m*\u001b[39;49m\u001b[43mf2\u001b[49m\u001b[43m)\u001b[49m\n",
      "\u001b[1;31mUnsupportedOperation\u001b[0m: not readable"
     ]
    }
   ],
   "source": [
    "import os\n",
    "\n",
    "with open(\"test.txt\", \"w\", encoding=\"utf-8\") as f:\n",
    "    f.write(\"слово1 слово2 слово1\\n\")\n",
    "    f.write(\"слово1 слово1 слово\\n\")\n",
    "    f.write(\"слово1 слово3 слово3\\n\")\n",
    "\n",
    "with open(\"test.txt\", \"r\", encoding=\"utf-8\") as f:\n",
    "    with open(\"test_2.txt\", \"w\", encoding=\"utf-8\") as f2:\n",
    "        for _ in f:\n",
    "            f2.write(_)\n",
    "            print(*f2)\n",
    "            \n",
    "\n"
   ]
  },
  {
   "cell_type": "code",
   "execution_count": null,
   "metadata": {},
   "outputs": [],
   "source": []
  }
 ],
 "metadata": {
  "kernelspec": {
   "display_name": "venv",
   "language": "python",
   "name": "python3"
  },
  "language_info": {
   "codemirror_mode": {
    "name": "ipython",
    "version": 3
   },
   "file_extension": ".py",
   "mimetype": "text/x-python",
   "name": "python",
   "nbconvert_exporter": "python",
   "pygments_lexer": "ipython3",
   "version": "3.9.6"
  }
 },
 "nbformat": 4,
 "nbformat_minor": 2
}
