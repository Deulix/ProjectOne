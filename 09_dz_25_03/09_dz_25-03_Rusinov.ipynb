{
 "cells": [
  {
   "cell_type": "markdown",
   "metadata": {},
   "source": [
    "Есть папка, в которой лежат файлы с разными расширениями.\n",
    "Программа должна:\n",
    "● Вывести имя вашей ОС\n",
    "● Вывести путь до папки, в которой вы находитесь\n",
    "● Рассортировать файлы по расширениям, например, для\n",
    "текстовых файлов создается папка, в неё перемещаются\n",
    "все файлы с расширением .txt, то же самое для остальных\n",
    "расширений\n",
    "● После рассортировки выводится сообщение типа «в папке\n",
    "с текстовыми файлами перемещено 5 файлов, их\n",
    "суммарный размер - 50 гигабайт»\n",
    "● Как минимум один файл в любой из получившихся\n",
    "поддиректорий переименовать. Сделать вывод\n",
    "сообщения типа «Файл data.txt был переименован в\n",
    "some_data.txt»\n",
    "● Программа должна быть кроссплатформенной – никаких\n",
    "хардкодов с именем диска и слэшами."
   ]
  },
  {
   "cell_type": "code",
   "execution_count": 5,
   "metadata": {},
   "outputs": [
    {
     "name": "stdout",
     "output_type": "stream",
     "text": [
      "nt\n",
      "c:\\Users\\artur\\OneDrive\\Рабочий стол\\Project\\09_dz_25_03 \n",
      "\n",
      "09_dz_25-03_Rusinov.ipynb ==> ipynb\n",
      "123.txt ==> txt\n",
      "file1.txt ==> txt\n",
      "file2.txt ==> txt\n",
      "input.txt ==> txt\n",
      "output.txt ==> txt\n",
      "test.exe ==> exe\n",
      "test.png ==> png\n",
      "test_2.txt ==> txt\n",
      "09_dz_25-03_Rusinov.ipynb renamed to new_name_09_dz_25-03_Rusinov.ipynb\n",
      "input.txt renamed to new_name_input.txt\n",
      "test.exe renamed to new_name_test.exe\n",
      "test.png renamed to new_name_test.png\n",
      "ipynb: 1 file(s), 0.00 MB\n",
      "txt: 6 file(s), 0.00 MB\n",
      "exe: 1 file(s), 0.00 MB\n",
      "png: 1 file(s), 0.00 MB\n"
     ]
    }
   ],
   "source": [
    "import os\n",
    "import random\n",
    "\n",
    "print(os.name)\n",
    "path = os.getcwd()\n",
    "print(path, \"\\n\")\n",
    "\n",
    "list_file = os.listdir()\n",
    "\n",
    "extension_stats = {}\n",
    "\n",
    "for file in list_file:\n",
    "    file_path = os.path.join(path, file)\n",
    "    if not os.path.isfile(file_path):\n",
    "        continue\n",
    "    \n",
    "    ext = (os.path.splitext(file)[-1])[1:]\n",
    "    print(file, \"==>\", ext)\n",
    "    \n",
    "    ext_dir_path = os.path.join(path, ext)\n",
    "    if not os.path.exists(ext_dir_path):\n",
    "        try:\n",
    "            os.mkdir(ext_dir_path)\n",
    "            extension_stats[ext] = {'count': 0, 'total_size': 0}\n",
    "        except Exception as e:\n",
    "            print(\"ERROR:\", e)\n",
    "            continue\n",
    "    \n",
    "    file_size = os.path.getsize(file_path)\n",
    "    new_path = os.path.join(ext_dir_path, file)\n",
    "    \n",
    "    try:\n",
    "        os.replace(file_path, new_path)\n",
    "        if ext in extension_stats:\n",
    "            extension_stats[ext]['count'] += 1\n",
    "            extension_stats[ext]['total_size'] += file_size\n",
    "    except PermissionError:\n",
    "        print(f\"Permission denied for {file}\")\n",
    "        continue\n",
    "\n",
    "for ext in extension_stats:\n",
    "    ext_dir = os.path.join(path, ext)\n",
    "    files = [f for f in os.listdir(ext_dir) if os.path.isfile(os.path.join(ext_dir, f))]\n",
    "    if files:\n",
    "        old_name = random.choice(files)\n",
    "        name_part, ext_part = os.path.splitext(old_name)\n",
    "        new_name = f\"new_name_{name_part}{ext_part}\"\n",
    "        old_path = os.path.join(ext_dir, old_name)\n",
    "        new_path = os.path.join(ext_dir, new_name)\n",
    "        try:\n",
    "            os.rename(old_path, new_path)\n",
    "            print(f\"{old_name} renamed to {new_name}\")\n",
    "        except Exception as e:\n",
    "            print(f\"ERROR: {e}\")\n",
    "\n",
    "for ext, stats in extension_stats.items():\n",
    "    size_mb = stats['total_size'] / (1024 ** 2)\n",
    "    print(f\"{ext}: {stats['count']} file(s), {size_mb:.2f} MB\")"
   ]
  },
  {
   "cell_type": "markdown",
   "metadata": {},
   "source": [
    "Написать программу, которая заменит в тексте ФИО\n",
    "подсудимого на N. Каждое слово в ФИО начинается с\n",
    "заглавной буквы, фамилия может быть двойная."
   ]
  },
  {
   "cell_type": "code",
   "execution_count": null,
   "metadata": {},
   "outputs": [
    {
     "name": "stdout",
     "output_type": "stream",
     "text": [
      "Подсудимая N\n",
      "в судебном заседании вину инкриминируемого\n",
      "правонарушения признала в полном объёме и суду показала,\n",
      "что 14 сентября 1876 года, будучи в состоянии алкогольного\n",
      "опьянения от безысходности, в связи с состоянием здоровья\n",
      "позвонила со своего стационарного телефона в полицию,\n",
      "сообщив о том, что у неё в квартире якобы заложена бомба.\n",
      "После чего приехали сотрудники полиции, скорая\n",
      "и пожарные, которым она сообщила, что бомба — это она.\n"
     ]
    }
   ],
   "source": [
    "import re\n",
    "\n",
    "string = f\"\"\"Подсудимая Эверт-Колокольцева Елизавета Александровна\n",
    "в судебном заседании вину инкриминируемого\n",
    "правонарушения признала в полном объёме и суду показала,\n",
    "что 14 сентября 1876 года, будучи в состоянии алкогольного\n",
    "опьянения от безысходности, в связи с состоянием здоровья\n",
    "позвонила со своего стационарного телефона в полицию,\n",
    "сообщив о том, что у неё в квартире якобы заложена бомба.\n",
    "После чего приехали сотрудники полиции, скорая\n",
    "и пожарные, которым она сообщила, что бомба — это она.\"\"\"\n",
    "# Не понял суть \\b в нашей строке ниже\n",
    "pat = r\"([А-Я][а-я]+(?:-[А-Я][а-я]+)?\\s[А-Я][а-я]+\\s[А-Я][а-я]+)\"\n",
    "a = re.sub(pat, \"N\", string)\n",
    "print(a)\n",
    "\n"
   ]
  },
  {
   "cell_type": "markdown",
   "metadata": {},
   "source": [
    "Напишите программу, которая считывает текст из\n",
    "файла (в файле может быть больше одной строки) и выводит\n",
    "в новый файл самое часто встречаемое слово в каждой\n",
    "строке и число – счётчик количества повторений этого слова\n",
    "в строке."
   ]
  },
  {
   "cell_type": "code",
   "execution_count": 17,
   "metadata": {},
   "outputs": [],
   "source": [
    "import re\n",
    "import os\n",
    "\n",
    "input_file  = os.path.join(os.getcwd(), r\"txt\\input.txt\")\n",
    "output_file = os.path.join(os.getcwd(), r\"txt\\output.txt\")\n",
    "\n",
    "with open(input_file, 'r', encoding='utf-8') as infile, \\\n",
    "        open(output_file, 'w', encoding='utf-8') as outfile:\n",
    "    for line_num, line in enumerate(infile, 1):\n",
    "        line = line.strip()\n",
    "        words = re.findall(r'\\b\\w+\\b', line.lower())\n",
    "        word_counts = {}\n",
    "        for word in words:\n",
    "            if word in word_counts:\n",
    "                word_counts[word] += 1\n",
    "            else:\n",
    "                word_counts[word] = 1\n",
    "\n",
    "        max_word = max(word_counts.items(), key=lambda x: x[1])            \n",
    "        outfile.write(f\"String {line_num}: '{max_word[0]}' - {max_word[1]} count(s)\\n\")\n"
   ]
  }
 ],
 "metadata": {
  "kernelspec": {
   "display_name": "venv",
   "language": "python",
   "name": "python3"
  },
  "language_info": {
   "codemirror_mode": {
    "name": "ipython",
    "version": 3
   },
   "file_extension": ".py",
   "mimetype": "text/x-python",
   "name": "python",
   "nbconvert_exporter": "python",
   "pygments_lexer": "ipython3",
   "version": "3.9.6"
  }
 },
 "nbformat": 4,
 "nbformat_minor": 2
}
