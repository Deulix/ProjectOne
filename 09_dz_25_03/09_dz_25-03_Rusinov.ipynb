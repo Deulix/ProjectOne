{
 "cells": [
  {
   "cell_type": "code",
   "execution_count": 26,
   "metadata": {},
   "outputs": [
    {
     "name": "stdout",
     "output_type": "stream",
     "text": [
      "nt\n",
      "c:\\Users\\artur\\OneDrive\\Рабочий стол\\Project\\09_dz_25_03\n"
     ]
    }
   ],
   "source": [
    "import os\n",
    "\n",
    "print(os.name)\n",
    "path = os.getcwd()\n",
    "print(path)\n",
    "\n",
    "list_file = os.listdir()\n",
    "\n",
    "for file in list_file:\n",
    "    file_path = os.path.join(path, file)\n",
    "    if not os.path.isfile(file_path):\n",
    "        continue\n",
    "    ext = (os.path.splitext(file)[-1])[1:]\n",
    "    print(file,\"==>\", ext)\n",
    "    ext_dir_path = os.path.join(path, ext)\n",
    "    if not os.path.exists(ext):\n",
    "        try:\n",
    "            os.mkdir(ext_dir_path)\n",
    "        except Exception as e:\n",
    "            print(\"ERROR\", e)\n",
    "            continue\n",
    "    new_path = os.path.join(ext_dir_path, file)\n",
    "    try:\n",
    "        os.replace(file_path, new_path)\n",
    "    except PermissionError:\n",
    "        print(f\"Permission denied for {file}\")\n",
    "        continue"
   ]
  },
  {
   "cell_type": "code",
   "execution_count": null,
   "metadata": {},
   "outputs": [
    {
     "data": {
      "text/plain": [
       "'Подсудимая Эверт-Колокольцева Елизавета Александровна\\nв судебном заседании вину инкриминируемого\\nправонарушения признала в полном объёме и суду показала,\\nчто 14 сентября 1876 года, будучи в состоянии алкогольного\\nопьянения от безысходности, в связи с состоянием здоровья\\nпозвонила со своего стационарного телефона в полицию,\\nсообщив о том, что у неё в квартире якобы заложена бомба.\\nПосле чего приехали сотрудники полиции, скорая\\nи пожарные, которым она сообщила, что бомба — это она.'"
      ]
     },
     "execution_count": 2,
     "metadata": {},
     "output_type": "execute_result"
    }
   ],
   "source": [
    "with open(\"file.txt\", \"w\", encoding=\"utf-8\") as f:\n",
    "    f.write(f\"\"\"Подсудимая Эверт-Колокольцева Елизавета Александровна\n",
    "в судебном заседании вину инкриминируемого\n",
    "правонарушения признала в полном объёме и суду показала,\n",
    "что 14 сентября 1876 года, будучи в состоянии алкогольного\n",
    "опьянения от безысходности, в связи с состоянием здоровья\n",
    "позвонила со своего стационарного телефона в полицию,\n",
    "сообщив о том, что у неё в квартире якобы заложена бомба.\n",
    "После чего приехали сотрудники полиции, скорая\n",
    "и пожарные, которым она сообщила, что бомба — это она.\"\"\")\n",
    "\n"
   ]
  }
 ],
 "metadata": {
  "kernelspec": {
   "display_name": "venv",
   "language": "python",
   "name": "python3"
  },
  "language_info": {
   "codemirror_mode": {
    "name": "ipython",
    "version": 3
   },
   "file_extension": ".py",
   "mimetype": "text/x-python",
   "name": "python",
   "nbconvert_exporter": "python",
   "pygments_lexer": "ipython3",
   "version": "3.9.6"
  }
 },
 "nbformat": 4,
 "nbformat_minor": 2
}
