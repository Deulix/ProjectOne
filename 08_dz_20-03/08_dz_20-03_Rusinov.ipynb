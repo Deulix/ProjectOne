{
 "cells": [
  {
   "cell_type": "markdown",
   "metadata": {},
   "source": [
    "# 1"
   ]
  },
  {
   "cell_type": "code",
   "execution_count": 15,
   "metadata": {},
   "outputs": [
    {
     "name": "stdout",
     "output_type": "stream",
     "text": [
      "Ваш вес равен 80, рост равен 180, ваш ИМТ равен 24.691358024691358\n"
     ]
    },
    {
     "data": {
      "text/plain": [
       "'Ваш ИМТ в норме'"
      ]
     },
     "execution_count": 15,
     "metadata": {},
     "output_type": "execute_result"
    }
   ],
   "source": [
    "def imt():\n",
    "    mass = input(\"Введите ваш вес (кг): \")\n",
    "    height = input(\"Введите ваш рост (см):\" )\n",
    "    try:\n",
    "        i_m_t = int(mass) / (int(height) / 100)**2\n",
    "    except ValueError:\n",
    "        print(\"Введите ваш рост и вес в корректных значениях!\")\n",
    "        imt()\n",
    "    except Exception:\n",
    "        print(\"Неизвестная ошибка\")\n",
    "    print(f\"Ваш вес равен {mass}, рост равен {height}, ваш ИМТ равен {i_m_t}\")\n",
    "    if 16 > i_m_t:\n",
    "        return \"У вас острый дефицит массы\"\n",
    "    elif 16 <= i_m_t < 18.5:\n",
    "        return \"У вас недостаточная масса тела\"\n",
    "    elif 18.5 <= i_m_t < 25:\n",
    "        return \"Ваш ИМТ в норме\"\n",
    "    elif 25 <= i_m_t < 30:\n",
    "        return \"У вас избыточная масса тела\"\n",
    "    elif 30 <= i_m_t < 35:\n",
    "        return \"У вас ожирение первой степени\"\n",
    "    elif 35 <= i_m_t < 40:\n",
    "        return \"У вас ожирение второй степени\"\n",
    "    else:\n",
    "        return \"У вас ожирение третьей степени\"\n",
    "imt()"
   ]
  },
  {
   "cell_type": "markdown",
   "metadata": {},
   "source": [
    "# 2"
   ]
  },
  {
   "cell_type": "code",
   "execution_count": 17,
   "metadata": {},
   "outputs": [
    {
     "name": "stdout",
     "output_type": "stream",
     "text": [
      "Добро пожаловать в калькулятор, введите 2 числа и операцию, которую хотите совершить\n"
     ]
    }
   ],
   "source": [
    "def calculate():\n",
    "    print(\"Добро пожаловать в калькулятор, введите 2 числа и операцию, которую хотите совершить\")\n",
    "    while True:\n",
    "        try:\n",
    "            a = int(input(\"Введите первое число\"))\n",
    "            b = int(input(\"Введите второе число\"))\n",
    "            oper = input(\"Выберите операцию (+, -, *, /), q для выхода: \")\n",
    "            if oper == \"+\":\n",
    "                return a + b\n",
    "            elif oper == \"-\":\n",
    "                return a - b\n",
    "            elif oper == \"*\":\n",
    "                return a * b\n",
    "            elif oper == \"/\":\n",
    "                return a / b\n",
    "            elif oper == \"q\":\n",
    "                break\n",
    "        except ValueError:\n",
    "            return \"Ошибка, введите корректные данные\"\n",
    "        except ZeroDivisionError:\n",
    "            return \"Нельзя делить на ноль\"\n",
    "        except Exception:\n",
    "            return \"Неизвестная ошибка\"\n",
    "\n",
    "calculate()\n",
    "        "
   ]
  }
 ],
 "metadata": {
  "kernelspec": {
   "display_name": "venv",
   "language": "python",
   "name": "python3"
  },
  "language_info": {
   "codemirror_mode": {
    "name": "ipython",
    "version": 3
   },
   "file_extension": ".py",
   "mimetype": "text/x-python",
   "name": "python",
   "nbconvert_exporter": "python",
   "pygments_lexer": "ipython3",
   "version": "3.9.6"
  }
 },
 "nbformat": 4,
 "nbformat_minor": 2
}
