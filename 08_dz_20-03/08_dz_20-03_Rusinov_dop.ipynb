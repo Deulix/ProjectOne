{
 "cells": [
  {
   "cell_type": "markdown",
   "metadata": {},
   "source": [
    "### Домашнее задание по уроку \"Try и Except\".\n",
    "\n",
    "#### Задание 1 \"Программистам всё можно\":\n",
    "\n",
    "Пора разрушать шаблоны привычного нам Python! Вот вас раздражает, что мы не можем сложить число(int) и строку(str)? Давайте исправим это недоразумение!\n",
    "\n",
    "Реализуйте следующую функцию:\n",
    "\n",
    "add_everything_up, будет складывать числа(int, float) и строки(str)\n",
    "\n",
    "Описание функции:\n",
    "\n",
    "add_everything_up(a, b) принимает a и b, которые могут быть как числами(int, float), так и строками(str).\n",
    "\n",
    "TypeError - когда a и b окажутся разными типами (числом и строкой), то возвращать строковое представление этих двух данных вместе (в том же порядке). Во всех остальных случаях выполнять стандартные действия.\n",
    "\n",
    "Пример кода:\n",
    "\n",
    "print(add_everything_up(123.456, 'строка'))\n",
    "\n",
    "print(add_everything_up('яблоко', 4215))\n",
    "\n",
    "print(add_everything_up(123.456, 7))\n",
    "\n",
    "Вывод в консоль:\n",
    "\n",
    "123.456строка\n",
    "\n",
    "яблоко4215\n",
    "\n",
    "130.456\n",
    "\n",
    "Примечания:\n",
    "\n",
    "Конструкции try-except в функции выполняют строго ту обработку, которая написана в задании (обращайте на важность порядка передачи данных).\n",
    "Если хотите дополнить функции своими исключениями или написать отдельно дополнительно собственные функции - это не запрещено, мы не против, чтобы вы больше экспериментировали. Но в первую очередь выполните поставленную задачу."
   ]
  },
  {
   "cell_type": "code",
   "execution_count": null,
   "metadata": {},
   "outputs": [
    {
     "name": "stdout",
     "output_type": "stream",
     "text": [
      "334.543\n"
     ]
    }
   ],
   "source": [
    "def add_everything_up(a, b):\n",
    "    try:\n",
    "        return a + b\n",
    "    except TypeError:\n",
    "        try:\n",
    "            return str(a) + str(b)\n",
    "        except:\n",
    "            raise\n",
    "\n",
    "a = 333.543\n",
    "b = True # True == 1\n",
    "\n",
    "print(add_everything_up(a, b))"
   ]
  },
  {
   "cell_type": "markdown",
   "metadata": {},
   "source": [
    "### 10 небольших задач"
   ]
  },
  {
   "cell_type": "markdown",
   "metadata": {},
   "source": [
    "1. Напишите программу на Python для обработки исключения ZeroDivisionError при делении числа на ноль.\n",
    "\n"
   ]
  },
  {
   "cell_type": "code",
   "execution_count": null,
   "metadata": {},
   "outputs": [
    {
     "data": {
      "text/plain": [
       "'Can not divide by zero, error: @division by zero@'"
      ]
     },
     "metadata": {},
     "output_type": "display_data"
    }
   ],
   "source": [
    "def no_zero_div(a, b):\n",
    "    try:\n",
    "        return a / b\n",
    "    except ZeroDivisionError as e:\n",
    "        return f\"Can not divide by zero, error: @{e}@\"\n",
    "\n",
    "a = 5\n",
    "b = 0\n",
    "\n",
    "c = no_zero_div(a, b)\n",
    "c"
   ]
  },
  {
   "cell_type": "markdown",
   "metadata": {},
   "source": [
    "2. Напишите программу на Python, которая предложит пользователю ввести целое число и вызовет исключение ValueError, если введенное число не является допустимым.\n",
    "\n"
   ]
  },
  {
   "cell_type": "code",
   "execution_count": null,
   "metadata": {},
   "outputs": [
    {
     "name": "stdout",
     "output_type": "stream",
     "text": [
      "<class 'int'>\n"
     ]
    },
    {
     "ename": "AssertionError",
     "evalue": "Integer type nubmer needed!",
     "output_type": "error",
     "traceback": [
      "\u001b[1;31m---------------------------------------------------------------------------\u001b[0m\n",
      "\u001b[1;31mAssertionError\u001b[0m                            Traceback (most recent call last)\n",
      "Cell \u001b[1;32mIn[138], line 6\u001b[0m\n",
      "\u001b[0;32m      3\u001b[0m     \u001b[38;5;28;01mreturn\u001b[39;00m \u001b[38;5;28mtype\u001b[39m(a)\n",
      "\u001b[0;32m      5\u001b[0m \u001b[38;5;28mprint\u001b[39m(only_int(\u001b[38;5;241m5\u001b[39m))\n",
      "\u001b[1;32m----> 6\u001b[0m \u001b[38;5;28mprint\u001b[39m(\u001b[43monly_int\u001b[49m\u001b[43m(\u001b[49m\u001b[38;5;241;43m5.3\u001b[39;49m\u001b[43m)\u001b[49m)\n",
      "\n",
      "Cell \u001b[1;32mIn[138], line 2\u001b[0m, in \u001b[0;36monly_int\u001b[1;34m(a)\u001b[0m\n",
      "\u001b[0;32m      1\u001b[0m \u001b[38;5;28;01mdef\u001b[39;00m\u001b[38;5;250m \u001b[39m\u001b[38;5;21monly_int\u001b[39m(a):\n",
      "\u001b[1;32m----> 2\u001b[0m     \u001b[38;5;28;01massert\u001b[39;00m \u001b[38;5;28mtype\u001b[39m(a) \u001b[38;5;241m==\u001b[39m \u001b[38;5;28mint\u001b[39m, \u001b[38;5;124m\"\u001b[39m\u001b[38;5;124mInteger type nubmer needed!\u001b[39m\u001b[38;5;124m\"\u001b[39m\n",
      "\u001b[0;32m      3\u001b[0m     \u001b[38;5;28;01mreturn\u001b[39;00m \u001b[38;5;28mtype\u001b[39m(a)\n",
      "\n",
      "\u001b[1;31mAssertionError\u001b[0m: Integer type nubmer needed!"
     ]
    }
   ],
   "source": [
    "def only_int(a):\n",
    "    assert type(a) == int, \"Integer type nubmer needed!\"\n",
    "    return type(a)\n",
    "\n",
    "print(only_int(5))\n",
    "print(only_int(5.3))"
   ]
  },
  {
   "cell_type": "markdown",
   "metadata": {},
   "source": [
    "3. Напишите программу на Python, которая открывает файл и обрабатывает исключение FileNotFoundError, если файл не существует."
   ]
  },
  {
   "cell_type": "code",
   "execution_count": null,
   "metadata": {},
   "outputs": [
    {
     "name": "stdout",
     "output_type": "stream",
     "text": [
      "(\"File '123.txt' opened\", 'lorem ipsum\\n123\\ntest\\n#########\\ndataleaks\\n%appdata%\\n23.03.2025 22:10')\n"
     ]
    }
   ],
   "source": [
    "import os\n",
    "path = \"C:/Users/artur/OneDrive/Рабочий стол/Project\"\n",
    "def open_find(a):\n",
    "    try:\n",
    "        with open(os.path.join(path, a), \"r\") as file:\n",
    "            return f\"File '{a}' opened\", file.read()\n",
    "    except FileNotFoundError:\n",
    "        return f\"File '{a}' not found\"\n",
    "    except Exception as e:\n",
    "        return f\"Error {e}\"\n",
    "        \n",
    "print(open_find(\"123.txt\"))\n",
    "    "
   ]
  },
  {
   "cell_type": "markdown",
   "metadata": {},
   "source": [
    "4. Напишите программу на Python, которая предложит пользователю ввести два числа и вызовет исключение TypeError, если входные данные не являются числовыми."
   ]
  },
  {
   "cell_type": "code",
   "execution_count": null,
   "metadata": {},
   "outputs": [
    {
     "data": {
      "text/plain": [
       "'Вы ввели 123 и 123.321'"
      ]
     },
     "metadata": {},
     "output_type": "display_data"
    }
   ],
   "source": [
    "def input_num():\n",
    "    a = input(\"Введите 1 число\")\n",
    "    b = input(\"Введите 2 число\")\n",
    "\n",
    "    if not (a.replace(\".\", \"\", 1).isdigit() and b.replace(\".\", \"\", 1).isdigit()):\n",
    "        raise TypeError(\"Введите числа!\")\n",
    "    \n",
    "    return f\"Вы ввели {a} и {b}\"\n",
    "\n",
    "input_num()\n"
   ]
  },
  {
   "cell_type": "markdown",
   "metadata": {},
   "source": [
    "*5. Напишите программу на Python, которая открывает файл и обрабатывает исключение PermissionError, если возникает проблема с разрешениями."
   ]
  },
  {
   "cell_type": "code",
   "execution_count": null,
   "metadata": {},
   "outputs": [
    {
     "name": "stdout",
     "output_type": "stream",
     "text": [
      "(\"File '123.txt' opened\", 'lorem ipsum\\n123\\ntest\\n#########\\ndataleaks\\n%appdata%\\n23.03.2025 22:10')\n"
     ]
    }
   ],
   "source": [
    "import os\n",
    "path = \"C:/Users/artur/OneDrive/Рабочий стол/Project\"\n",
    "def open_find(a):\n",
    "    try:\n",
    "        with open(os.path.join(path, a), \"r\") as file:\n",
    "            return f\"File '{a}' opened\", file.read()\n",
    "    except FileNotFoundError:\n",
    "        return f\"File '{a}' not found\"\n",
    "    except PermissionError:\n",
    "        return f\"Access denied for {a}\"\n",
    "    except Exception as e:\n",
    "        return f\"Error {e}\"\n",
    "        \n",
    "print(open_find(\"123.txt\"))"
   ]
  },
  {
   "cell_type": "markdown",
   "metadata": {},
   "source": [
    "6. Напишите программу на Python, которая выполняет операцию над списком и обрабатывает исключение IndexError, если индекс находится вне диапазона.\n",
    "\n"
   ]
  },
  {
   "cell_type": "code",
   "execution_count": null,
   "metadata": {},
   "outputs": [
    {
     "data": {
      "text/plain": [
       "'Index not found'"
      ]
     },
     "metadata": {},
     "output_type": "display_data"
    }
   ],
   "source": [
    "def list_operations(lst: list):\n",
    "    x = list(map(str, lst))\n",
    "    x.append(\"False\")\n",
    "    x = \"\".join(x)\n",
    "    f = len(x)\n",
    "    try:\n",
    "        return x[f]\n",
    "    except IndexError:\n",
    "        return \"Index not found\"\n",
    "   \n",
    "\n",
    "a = [\"a\", \"b\", \"c\", 1, 2, 3, True]\n",
    "\n",
    "list_operations(a)\n",
    "\n"
   ]
  },
  {
   "cell_type": "markdown",
   "metadata": {},
   "source": [
    "7. Напишите программу на Python, которая предложит пользователю ввести число и обработает исключение KeyboardInterrupt, если пользователь отменит ввод."
   ]
  },
  {
   "cell_type": "code",
   "execution_count": null,
   "metadata": {},
   "outputs": [
    {
     "name": "stdout",
     "output_type": "stream",
     "text": [
      "0.7837608291796294 seconds\n",
      "1.1117356028237053 seconds\n",
      "1.8503233618723929 seconds\n",
      "2.6564925505054573 seconds\n",
      "3.1852395182082796 seconds\n",
      "3.4502102957118135 seconds\n",
      "4.277471801843338 seconds\n",
      "4.384028373850957 seconds\n",
      "4.6059419858097606 seconds\n"
     ]
    },
    {
     "data": {
      "text/plain": [
       "'Program was stopped by user'"
      ]
     },
     "metadata": {},
     "output_type": "display_data"
    }
   ],
   "source": [
    "import time\n",
    "import random\n",
    "\n",
    "def terpenie():\n",
    "    try:\n",
    "        i = random.random()\n",
    "        while i < 10:\n",
    "            print(i, \"seconds\")\n",
    "            i += random.random()\n",
    "            time.sleep(i)\n",
    "    except KeyboardInterrupt:\n",
    "        return \"Program was stopped by user\"\n",
    "\n",
    "terpenie()"
   ]
  },
  {
   "cell_type": "markdown",
   "metadata": {},
   "source": [
    "8. Напишите программу на Python, которая выполняет деление и обрабатывает исключение ArithmeticError в случае арифметической ошибки."
   ]
  },
  {
   "cell_type": "code",
   "execution_count": null,
   "metadata": {},
   "outputs": [
    {
     "name": "stdout",
     "output_type": "stream",
     "text": [
      "Input must be only numbers! You entered f, 2\n",
      "Arithmetic error! More info: float division by zero\n",
      "1.0\n"
     ]
    }
   ],
   "source": [
    "a = input(\"Enter first number\")\n",
    "b = input(\"Enter second number\")\n",
    "\n",
    "def mathematics(a, b):\n",
    "    try:\n",
    "        b = float(a)\n",
    "        a = float(b)\n",
    "        try:\n",
    "            return (a / b) ** (b / a)\n",
    "        except ArithmeticError as e:\n",
    "            return f\"Arithmetic error! More info: {e}\"\n",
    "    except ValueError:\n",
    "        return f\"Input must be only numbers! You entered {a}, {b}\"\n",
    "\n",
    "print(mathematics(a, b))\n",
    "print(mathematics(0, 1))\n",
    "print(mathematics(7, 2))\n"
   ]
  },
  {
   "cell_type": "markdown",
   "metadata": {},
   "source": [
    "10. Напишите программу на Python, которая выполняет операцию со списком и обрабатывает исключение AttributeError, если атрибут не существует."
   ]
  },
  {
   "cell_type": "code",
   "execution_count": null,
   "metadata": {},
   "outputs": [
    {
     "name": "stdout",
     "output_type": "stream",
     "text": [
      "['wew', 123, 512, 'jojo', 111]\n",
      "123 has no 'append' attribute!\n"
     ]
    }
   ],
   "source": [
    "def attributes(a: list):\n",
    "    try:\n",
    "        a.append(111)\n",
    "        return a\n",
    "    except AttributeError:\n",
    "        print(f\"{a} has no 'append' attribute!\")\n",
    "\n",
    "a = [\"wew\", 123, 512, \"jojo\"]\n",
    "b = 123\n",
    "\n",
    "print(attributes(a))\n",
    "attributes(b)"
   ]
  }
 ],
 "metadata": {
  "language_info": {
   "name": "python"
  }
 },
 "nbformat": 4,
 "nbformat_minor": 2
}
